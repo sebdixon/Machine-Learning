{
  "cells": [
    {
      "cell_type": "markdown",
      "metadata": {
        "id": "Jn-DVnejj5fC"
      },
      "source": [
        "# Coursework 1 - Mathematics for Machine Learning"
      ]
    },
    {
      "cell_type": "markdown",
      "metadata": {
        "id": "DgFvOmc7j5fE"
      },
      "source": [
        "## CID: 01843211\n",
        "\n",
        "**Colab link:** https://colab.research.google.com/drive/1rP1MUlRn9mO4HsI01nL80xRNbIGzTZLt?usp=sharing\n",
        "\n",
        "***\n",
        "***"
      ]
    },
    {
      "cell_type": "markdown",
      "metadata": {
        "id": "J0lN57F2XwSq"
      },
      "source": [
        "**References:**  (the following are used varingly throughout)\n",
        "\n",
        "Lee, J., Bahri, Y., Novak, R., Schoenholz, S. S., Pennington, J.,\n",
        "and Sohl-Dickstein, J. (2017). Deep neural networks as gaussian processes. *arXiv\n",
        "preprint arXiv:1711.00165.*\n",
        "\n",
        "Chong, E.K.P. and Zak, S.H (2013). An Introduction to Optimization.\n",
        "Fourth edition. Wiley.\n",
        "\n",
        "Matthews, A. G. d. G., Rowland, M., Hron, J., Turner,\n",
        "R. E., and Ghahramani, Z. (2018). Gaussian process behaviour in wide deep\n",
        "neural networks. *arXiv preprint arXiv:1804.11271*\n",
        "\n",
        "***"
      ]
    },
    {
      "cell_type": "markdown",
      "metadata": {
        "id": "B3lE_wY8j5fE"
      },
      "source": [
        "## Part 1: Quickfire questions [3 points]"
      ]
    },
    {
      "cell_type": "markdown",
      "metadata": {
        "id": "K4O2FyPej5fF"
      },
      "source": [
        "#### Question 1 (True risk / Empirical risk):\n",
        "\n",
        "Let $(\\mathbf{x},\\mathbf{y})$ be sampled from the data-generating distribution $D$. Let $f$ be a classifier in function space $\\hat{\\mathcal{F}}$ and let $L$ be a loss function which is a metric or pseudo-metric. Then the risk $R$ corresponding to $f$ is defined $$R(f)=\\mathbb{E}_D[L(f(\\mathbf{x}, \\mathbf{y})]$$\n",
        "\n",
        "This definition assumes that $(\\mathbf{x}, \\mathbf{y})$ are drawn from the true underlying distribution $\\mathcal{D}$, making $R(f)$ a measure of how well $f$ is expected to perform on the entire data space, not just the observed samples. Herein lies the key difference between this true risk $R(f)$ and the empirical risk\n",
        "\n",
        "In statistical learning we seek an $\\hat{f}\\in \\hat{\\mathcal{F}}$ which minimises this true risk, i.e\n",
        "$$\\hat{f}\\in\\text{arg min}_{f\\in\\hat{\\mathcal{F}}}R(f)$$\n",
        "\n",
        "However, since $\\mathcal{D}$ is unknown in real-world scenarios, we cannot compute $R(f)$ directly. Instead, we approximate it using the empirical risk $\\hat{R}(f)$, which is calculated based on the observed dataset $D$:\n",
        "\n",
        "\n",
        "$$\\hat{R}(f)=\\frac{1}{n}\\sum_{i=1}^n L(f(\\mathbf{x}^i), \\mathbb{y}^i)$$\n",
        "\n",
        "For large datasets, this is approximately equal to the true risk and allows us to learn a function\n",
        "\n",
        "$$f^*=\\text{arg min}_{f\\in\\mathcal{F}}\\hat{R}(f)$$\n",
        "\n",
        "where $\\mathcal{F}$ is a choice of function class that we believe is likely to contain the true function, or a suitable approximation thereof. If $\\mathcal{F}$ is well-chosen this will approximate the $\\hat{f}$ defined above.\n",
        "\n",
        "The key difference between these two concepts is that the true risk is an unknown, yet crucial, measurement of the suitability of the learned function $f$ on the data distribution $D$. Given the limitations of our finite set of samples $(\\mathbf{x},\\mathbf{y})\\sim D$, we must use a suitable approximation, which is given by the empirical risk. It can be shown that this is the best estimator of the true risk given the samples."
      ]
    },
    {
      "cell_type": "markdown",
      "metadata": {
        "id": "WZ-YC7Icj5fF"
      },
      "source": [
        "#### Question 2 ('Large' or 'rich' hypothesis class):\n",
        "\n",
        "A rich hypothesis class $\\mathcal{F}$ will result in the learned function minimising the training error. For example, consider a dataset of $n$ points - if the function class is all degree $n-1$ polynomials, then the learned function will perfectly interpolate all points in the dataset.\n",
        "\n",
        "However, this can be undesirable, as often variations in the data are due to random noise. We instead seek a simpler function will will *generalise* better, and thus minimise the *generalisation error*, which is exactly the difference between $f^*$ and $\\hat{f}$ above.\n",
        "\n",
        "Linear regression is an example of a basic function class. We approximate relationships with linear maps from the feature space to the output space. This performs well with simple relationships, and exhibits low variance, however can be biased with more complex, e.g. polynomial, relationships.\n",
        "\n",
        "On th eother hand, neural nets are examples of a very rich function classse can capture much more complex relationships, however will overfit highly, with high variance, for a simple linear map, and therefore will exhibit high generalisation error."
      ]
    },
    {
      "cell_type": "markdown",
      "metadata": {
        "id": "gFg8Wr2Qj5fG"
      },
      "source": [
        "#### Question 3 (Dataset splitting):\n",
        "\n",
        "In the case that validation data is drawn from the same distribution as training data i.i.d, it would be fair to assume that model performance on unseen data is similar to that on that validation data.\n",
        "\n",
        "However, there are exceptions to this rule. Consider a time series generated by a non-stationary model, for example S&P 500 close. If the training data is 2023 data, and the validation data is Jan/Feb 2024 data, it would be unreasonable to asssume that accuracy will perform as well when evluated on the remainder of 2024 data."
      ]
    },
    {
      "cell_type": "markdown",
      "metadata": {
        "id": "szrYhmDCj5fG"
      },
      "source": [
        "#### Question 4 (Occam’s razor):\n",
        "\n",
        "Occam's Razor suggests that among competing hypotheses that predict equally well, the simplest one should be selected. This simplicity is often equated with a model or explanation that makes the fewest assumptions.\n",
        "\n",
        "In machine learning, Occam's Razor is interpreted as a guideline for model selection. The principle advises choosing the simplest model that adequately fits the data. This approach is grounded in the idea that simpler models are less likely to overfit the training data. Overfitting occurs when a model captures noise or random fluctuations in the training set rather than the underlying distribution, leading to poor generalisation to new, unseen data.\n",
        "\n",
        "When dealing with naturally occurring data, such as images, the application of Occam's Razor becomes particularly relevant. Images are high-dimensional data with complex, intricate structures. Models trained on image data, such as convolutional neural networks, can easily become overly complex, with millions of parameters capable of fitting the training data very closely.\n",
        "\n",
        "Applying Occam's Razor in this context means preferring simpler models that still capture the essential patterns in the image data without memorizing specific details. This simplicity helps in generalizing better to unseen images by focusing on broader, more universal features rather than specifics of the training set.\n",
        "\n",
        "For image data, a simpler model according to Occam's Razor would still need to be complex enough to handle the data's inherent complexity but not so complex that it learns the noise or irrelevant details. This balance helps in achieving good performance on new images that were not part of the training process.\n",
        "\n",
        "Simpler models are often more interpretable and computationally efficient. This efficiency is crucial for deploying models in real-world applications where computational resources may be limited, and understanding model predictions is important for trust and transparency."
      ]
    },
    {
      "cell_type": "markdown",
      "metadata": {
        "id": "ALvZEzZKj5fH"
      },
      "source": [
        "#### Question 5 (Generalisation error):\n",
        "\n",
        "\n",
        "The generalisation error for a given model $f$ is the difference between $R$ and $\\hat{R}$. This quantifies how well the model performs on new, unseen data compared to the training data on which it was trained. For a \"good\" model, the generalisation error should be small. A small generalisation error indicates that the model effectively captures the underlying patterns or distributions of the data without being overly fitted to the noise or specific details of the training set.\n",
        "\n",
        "A model with a small generalisation error has successfully learned the true underlying patterns in the data. This ability suggests that the model can apply what it has learned from the training data to unseen data, making accurate predictions across a variety of scenarios that were not specifically presented during training.\n",
        "\n",
        "A good model strikes an optimal balance between bias (the error from erroneous assumptions in the learning algorithm) and variance (the error from sensitivity to small fluctuations in the training set). A small generalisation error indicates that the model has achieved this balance, being neither too simple (high bias and unable to capture complex patterns) nor too complex (high variance and overfitting to the training data).\n",
        "\n",
        "Overfitting occurs when a model learns the noise or random fluctuations in the training data rather than the actual signal. A model with a small generalisation error is robust against overfitting, meaning it has generalized well from the training data to unseen data, focusing on the signal rather than the noise.\n",
        "\n",
        "The ultimate goal of a machine learning model is to perform well on real-world data, which is often different in various ways from the data used during training. A small generalisation error implies that the model is likely to be effective and reliable when deployed in real-world applications, accurately handling new examples that reflect the complexities and variations of real-world scenarios.\n",
        "\n",
        "Since we cannot compute $R$ as we do not know the underlying distribution, we approximate it as the difference between two empirical errors $\\hat{R}$, when one is taken on train data and the other on test data."
      ]
    },
    {
      "cell_type": "markdown",
      "metadata": {
        "id": "rKUYTo47j5fH"
      },
      "source": [
        "#### Question 6 (Rademacher complexity pt1):\n",
        "\n",
        "\n",
        "The empirical Rademacher complexity of a function class $ \\mathcal{F} $ with respect to a sample $ S = \\{x_1, x_2, \\ldots, x_n\\} $ is defined as follows:\n",
        "\n",
        "$$\n",
        "\\hat{\\mathcal{R}}_S(\\mathcal{F}) = \\mathbb{E}_{\\sigma}\\left[\\sup_{f \\in \\mathcal{F}}\\left(\\frac{2}{n} \\sum_{i=1}^n \\sigma_i f(x_i)\\right)\\right]\n",
        "$$\n",
        "\n",
        "Where:\n",
        "\n",
        "- $S$ represents a sample of $n$ points drawn from a distribution $\\mathcal{D}$.\n",
        "- $\\mathcal{F}$ is a class of functions where each function $f$ maps an input space $\\mathcal{X}$ to real numbers $\\mathbb{R}$.\n",
        "- $\\sigma = (\\sigma_1, \\sigma_2, \\ldots, \\sigma_n)$ is a sequence of independent Rademacher variables, each taking values $-1$ or $+1$ with equal probability.\n",
        "- $\\mathbb{E}_{\\sigma}$ denotes the expectation over all possible realizations of the Rademacher sequence $\\sigma$.\n",
        "\n",
        "The empirical Rademacher complexity measures the expected maximum correlation between the functions in $\\mathcal{F}$ and a random pattern of signs provided by $\\sigma$ on the sample $S$. It serves as an indicator of the function class's ability to fit random noise, which is directly related to its potential for overfitting and its generalization capacity.\n",
        "\n",
        "A high value of empirical Rademacher complexity suggests that the function class $ \\mathcal{F} $ has a strong ability to fit random patterns. Specifically, it means that there exist functions within $ \\mathcal{F} $ that can align closely with random assignments of labels (as represented by the Rademacher variables) to the data points in $ S $. This ability is indicative of $ \\mathcal{F} $'s flexibility or complexity in modeling data. While the capacity to fit data closely might seem desirable, a high empirical Rademacher complexity raises concerns about overfitting. Overfitting occurs when a model captures not just the underlying signal in the data but also the noise. Therefore, a high complexity value warns that models from $ \\mathcal{F} $ might not generalise well to unseen data, as they could be fitting the noise present in the training sample.\n",
        "\n",
        "Mathematically a high empirical Rademacher complexity will result in a looser bound on the generalisation error. Recall:\n",
        "$$\n",
        "\\mathbb{P}_{S \\sim \\mathcal{D}^n}\\left( \\forall f \\in \\mathcal{F},\\, \\left| \\mathbb{E}[L(f, S)] - \\hat{\\mathbb{E}}[L(f, S)] \\right| \\leq 2\\hat{\\mathcal{R}}_S(\\mathcal{F}) + 3\\sqrt{\\frac{\\log(\\frac{2}{\\delta})}{2n}} \\right) \\geq 1 - \\delta\n",
        "$$\n",
        "\n",
        "\n",
        "This bound implies that with high probability (at least $1 - \\delta$), the absolute difference between the true expected loss and the empirical loss for all functions in the class $\\mathcal{F}$ is bounded by the term involving the empirical Rademacher complexity and a term that decreases as the sample size $n$ increases. The presence of $\\hat{\\mathcal{R}}_S(\\mathcal{F})$ in the bound highlights the role of the function class's complexity in determining generalisation performance. A higher empirical Rademacher complexity leads to a looser bound, meaning that models with higher complexity may have a larger difference between their training and test performance."
      ]
    },
    {
      "cell_type": "markdown",
      "metadata": {
        "id": "tEJcNzq8j5fH"
      },
      "source": [
        "#### Question 7 (Rademacher complexity pt2):\n",
        "\n",
        "The motivation for using Rademacher complexity in generalisation bounds stems from the need to measure the capacity of a function class to fit random noise.\n",
        "\n",
        "The dependency of the bound in (73) on the size of the function class because less informative/meaningless for large or infinite-dimensional function classes. Moreover, the measure $\\log |\\mathcal{F}|$ is a crude measure of complexity; it does not take into account 'richness' of the hypothesis class. An infinite-dimensional hypothesis class could give rise to very similar functions, which would not intuitively increase the capacity to fit random noise. We would therefore expect a more nuanced concept, such as Rademacher complexity, to provide tighter bounds.\n",
        "\n",
        "Rademacher complexity addresses these issues by providing a more refined measure of the function class's capacity. It does so by evaluating the function class's ability to fit random noise, which is a more direct way of assessing its capacity to overfit. The Rademacher complexity measures the expected maximum deviation of the empirical risk from the true risk over random samples, which can be seen as a measure of the \"richness\" of the function class with respect to the data distribution. This complexity is generally applicable to any class of functions, whether finite or infinite, and provides a more realistic view of the function class's capacity to generalise."
      ]
    },
    {
      "cell_type": "markdown",
      "metadata": {
        "id": "txVv-Mxmj5fH"
      },
      "source": [
        "#### Question 8 (Regularisation term in the loss function):\n",
        "\n",
        "\n",
        "The inclusion of a regularisation term in the optimisation of model parameters serves several key purposes. Firstly, it acts as a preventive measure against overfitting, where a model may perform exceptionally well on the training data but poorly on unseen data. Regularisation achieves this by imposing a penalty on the complexity of the model, effectively controlling the magnitude of the model parameters to encourage simpler models that generalise better to new data.\n",
        "\n",
        "In the context of feature selection, certain types of regularisation can help in identifying the most relevant features by shrinking the coefficients of less important features to zero. This leads to a more interpretable model which is easier to analyse and understand. One such example is droupout in the training of a deep neural network."
      ]
    },
    {
      "cell_type": "markdown",
      "metadata": {
        "id": "vyxqomPUj5fI"
      },
      "source": [
        "#### Question 9 (Momentum gradient descent):\n",
        "\n",
        "Standard gradient decsent will always converge to a local minimum when the step size is small enough. However in steep loss landscapes, this might mean extremely slow convergence due to the need to set the so-called *learning rate* very small.\n",
        "\n",
        "Momentum Gradient Descent is an enhanced optimization algorithm designed to expedite the convergence of traditional gradient descent, particularly in complex loss landscapes that are common in high-dimensional machine learning problems. The core motivation for momentum gradient descent is to address the often slow and erratic convergence patterns of standard GD, which can struggle with irregular terrain in the loss surface—characterised by *sharp ravines* and flat 'plateaus'.\n",
        "\n",
        "By incorporating a momentum term, which aggregates gradients from previous steps, the algorithm gains the ability to accelerate through flat and downhill regions and dampen oscillations in steep valleys. This approach not only speeds up convergence but also contributes to a smoother trajectory towards the minimum.\n",
        "\n",
        "Moreover, Momentum GD offers a significant advantage in scenarios where the condition number $κ$\n",
        " of the objective function is high—a situation that arises when there's a substantial discrepancy between the scales of different dimensions in the function's landscape. The condition number can severely affect the performance of standard GD, leading to slow convergence rates and increased computational costs. Momentum GD mitigates this issue by providing a more robust and adaptive step size, allowing for quicker navigation through the loss landscape."
      ]
    },
    {
      "cell_type": "markdown",
      "metadata": {
        "id": "0fPpx0FRj5fI"
      },
      "source": [
        "#### Question 10 (Adam):\n",
        "\n",
        "Adam, short for \"Adaptive Moment Estimation,\" is an optimization algorithm that combines the concepts of gradient descent with momentum and adaptive learning rates to improve upon the performance of classical gradient descent in the context of large datasets and high-dimensional parameter spaces.\n",
        "\n",
        "Like traditional gradient descent, Adam updates parameters in the direction that minimizes the objective function. This is achieved by calculating the gradient of the objective function with respect to the parameters at each iteration.\n",
        "\n",
        "Adam maintains a decaying average of past gradients, known as the first moment (the mean), which serves as a velocity component. This allows Adam to continue moving in the direction of persistent reduction in the objective function, even if the current gradient is small, helping to navigate the parameter space more efficiently.\n",
        "\n",
        "Adam uses an iterative update rule over parameters $\\theta$, where\n",
        "$\\theta_{t+1}$ is updated using normalised $m_t$ and $v_t$, where $m_t$ is accumulating gradients called $g_t$, as in momentum GD\n",
        "and $v_t$ is accumulating second moment of the gradients $g_t^2$.\n",
        "\n",
        "Adam adapts the learning rates of parameters based on the second moment $v_t$ (the uncentered variance) of the gradients. This means that parameters with large gradients will have smaller updates to prevent overshooting, and parameters with small gradients will have larger updates to accelerate the learning process. This adaptive mechanism is particularly useful for dealing with sparse data and features.\n",
        "\n",
        "One issue with maintaining moving averages is that they can be biased towards zero, especially during the initial time steps or when the decay rate is high. Adam implements bias corrections for the first and second moments, ensuring that these estimates are accurate from the start.\n",
        "The Adam algorithm is generally favoured for its performance in practical applications. It requires less memory than other second-order methods and tends to be more robust to the choice of hyperparameters, making it a go-to optimizer in many deep learning frameworks.\n",
        "\n",
        "\n",
        "\n",
        "\n"
      ]
    },
    {
      "cell_type": "markdown",
      "metadata": {
        "id": "4hswprC7j5fI"
      },
      "source": [
        "#### Question 11 (AdaGrad):\n",
        "\n",
        "\n",
        "AdaGrad, standing for Adaptive Gradient Algorithm, is an optimisation technique that uniquely adjusts the learning rate for each parameter within a model. It's particularly adept at handling data where some features are updated less frequently than others, a scenario often described as 'sparse data'.\n",
        "\n",
        "The defining characteristic of AdaGrad is its approach to learning rates: it assigns each parameter its own learning rate which is modified according to the historical aggregated gradient information of that parameter. This is done by accumulating the square of each gradient component, creating a historical sum which then informs the adjustment of the learning rate. When parameters are updated, AdaGrad scales down the learning rate by the square root of this accumulated sum, offset slightly by a small smoothing term to avoid division by zero.\n",
        "\n",
        "One of the most significant advantages of AdaGrad is that it removes the need to manually fine-tune the learning rate, a common challenge in many machine learning applications. It naturally adapts to the data, providing a more nuanced approach to learning rate modification, particularly for problems with sparse features where the frequency of feature updates can vary dramatically.\n",
        "\n",
        "However, despite its adaptability, AdaGrad can encounter a drawback where the learning rate reduces too much over time. This excessive diminution is due to the perpetual accumulation of squared gradients, which can lead to an excessively small learning rate and subsequently halt further model training."
      ]
    },
    {
      "cell_type": "markdown",
      "metadata": {
        "id": "AnN7YwABj5fI"
      },
      "source": [
        "#### Question 12 (Decaying Learning Rate):\n",
        "\n",
        "Implementing a decaying learning rate is advantageous when attempting to attain the minimum in a complex loss landscape. In such a landscape there are numerous dips and valleys with varying dimensions, contours, and gradients. A substantial learning rate is beneficial when traversing large and expansive valleys, as it enables \"large strides\" across the terrain. However, as we delve deeper into the descent, the valleys become narrower (akin to enhancing the resolution or magnifying the view), and a large learning rate could cause us to overshoot. Gradually reducing the learning rate results in more measured steps that guide the trajectory squarely into the valley's depths. Moreover, if done correctly it will give us faster convergence than having a perpetually miniscule learning rate.\n",
        "\n",
        "A useful example is a game of golf. When you are far from the hole, you want to take big steps towards it (e.g. by using a driver). However, when you are the hole, you should take smaller steps so as not to overshoot (e.g. by using a putter)."
      ]
    },
    {
      "cell_type": "markdown",
      "metadata": {
        "id": "taocpmjOj5fI"
      },
      "source": [
        "***\n",
        "***\n",
        "\n",
        "## Part 2: Short-ish proofs [6 points]"
      ]
    },
    {
      "cell_type": "markdown",
      "metadata": {
        "id": "3HhqQk0cj5fJ"
      },
      "source": [
        "\n",
        "### Question 2.1: Bounds on the risk [1 point]\n",
        "\n",
        "\n"
      ]
    },
    {
      "cell_type": "markdown",
      "metadata": {
        "id": "AGGzpXPqj5fJ"
      },
      "source": [
        "#### (1)\n",
        "Reformulating our discussion within the framework of Hoeffding's Inequality (as outlined in Theorem 4.2 notes), we proceed to apply this inequality.\n",
        "\n",
        "Given a training sample $S$ and $N$ independent and identically distributed (i.i.d.) variables ${\\textbf{x}}{i=1}^N$ following a distribution $D$ (noting these are random variables rather than samples), we consider deterministic targets $y_i = f(x)$ for a given $x$. Our chosen loss function is $L(f(\\textbf{x}), y)=\\mathbb{1}{f(\\textbf{x})\\ne y}$.\n",
        "\n",
        "In the context of Theorem 4.2, let's define the random variables $X_i := L(f(\\textbf{x}_i), y_i)$. These variables are i.i.d. because the $\\textbf{x}_i$ are i.i.d., and they are bounded within $[a_i,b_i]=[0,1]$ for all $i \\le N$.\n",
        "\n",
        "Let $S_N := \\sum^N_i{X_i}$, and observe that $S_N = N\\cdot\\hat{R}(f)$. Using the linearity of expectation and the definition of $\\hat{R}(f)$, we find:\n",
        "\n",
        "\\begin{align}\n",
        "\\mathbb{E}[S_N] &= \\mathbb{E} [N\\cdot\\hat{R}(f)] \\\\&= ∑_i^N \\mathbb{E}[L(f(\\textbf{x}_i), y_i)] \\\\&= N \\cdot\\mathbb{E}[L(f(\\textbf{x}_1), y_1)]\\\\&=N\\cdot R(f)\n",
        "\\end{align}\n",
        "\n",
        "Given that $X_i$ are bounded i.i.d variables we may use Hoeffding's inequality. For arb. $\\tilde{ϵ}>0$,\n",
        "\n",
        "$$\n",
        "\\begin{align}\n",
        "P[|S_N - \\mathbb{E}[S_N]| \\ge \\tilde{ϵ}] &\\le  2\\exp{(-2\\tilde{ϵ}^2/∑_i^N(b_i - a_i)})\\\\\n",
        "\\implies P[|N\\cdot\\hat{R}(f) - N\\cdot R(f)| \\ge \\tilde{ϵ}] &\\le  2\\exp{(-2\\tilde{ϵ}^2/∑_i^N(1)})\\\\&=2\\exp{\\frac{-2\\tilde{ϵ}^2}{N}}.\n",
        "\\end{align}\n",
        "$$\n",
        "\n",
        "where we simply substitute in our conditions with $b_i=1, a_i=0$. Selecting $\\tilde{ϵ}=Nϵ$ allows us to deduce:\n",
        "\n",
        "$$\n",
        "\\begin{equation}\n",
        "P[|\\hat{R}(f) - R(f)| \\ge ϵ] \\le  2\\exp{(-2ϵ^2/∑_i^N1})=2\\exp{-2N ϵ^2}.\n",
        "\\end{equation}\n",
        "$$\n",
        "\n",
        "which yields Corollary 4.6\n",
        "\n",
        "---\n",
        "\n",
        "#### (2)\n",
        "Consider the following bound by rearrangement:\n",
        "\n",
        "$$\n",
        "\\begin{equation}\n",
        "\\mathbb{P}[|\\hat{R}(f) - R(f)| < ϵ] \\le 1 - 2\\exp{(-2N ϵ^2)}.\n",
        "\\end{equation}\n",
        "$$\n",
        "\n",
        "The inequality highlights the pivotal role of dataset size in determining the likelihood of the generalization error deviating significantly from $\\epsilon$, referring to the tails of the probability density function. Specifically, as the sample size $N$ increases, this probability diminishes in a consistent manner. Holding $\\epsilon$ constant and allowing the sample size $N$ to approach infinity reveals that the probability converges to zero. This implies that with a sufficiently large dataset, the occurrence of tails in the generalization error exceeding $\\epsilon$ becomes exceedingly rare.\n",
        "\n",
        "Moreover, if we wish to decrease $\\epsilon$ for a tighter bound, we must increase $N$ quadratically. This is more than linear meaning that the effect of increasing the dataset size decreases marginally with respect to tightening the bound.\n",
        "\n",
        "---\n",
        "#### (3)\n",
        "\n",
        "\n",
        "Theorem 4.8 states the following for finite hypothesis classes:\n",
        "\n",
        "$$\n",
        "R(f) \\leq \\hat{R}(f) + \\sqrt{\\frac{\\log |\\mathcal{F}| + \\log \\frac{2}{\\delta}}{2N}}.\n",
        "$$\n",
        "\n",
        "This presents a generalisation bound within such a finite hypothesis class, indicating that the generalisation error is constrained by the logarithm of the size of the hypothesis set. This suggests a balancing act: opting for a larger hypothesis set can enhance the model's capacity to capture more complex data patterns, but it simultaneously increases the upper limit of the generalisation error. Nonetheless, due to the logarithmic relationship, the rate at which this upper bound increases is moderated in comparison to the growth of the hypothesis set, which is advantageous.\n",
        "\n",
        "\n",
        "\n"
      ]
    },
    {
      "cell_type": "markdown",
      "metadata": {
        "id": "jghFnAovj5fJ"
      },
      "source": [
        "***\n",
        "\n",
        "### Question 2.2: On semi-definiteness [1 point]"
      ]
    },
    {
      "cell_type": "markdown",
      "metadata": {
        "id": "XVBKhpkOj5fJ"
      },
      "source": [
        "We will show that a convex function $f: \\mathbb{R}^N \\to \\mathbb{R}$ has a positive semidefinite Hessian, that is, $v^{\\top}∇^2f(x)v\\geq0\\, ∀x, v \\in \\mathbb{R}^n$.\n",
        "\n",
        "\n",
        "Define\n",
        "$g(t)=f(x+tv)$ for any arbitrary $x,v \\in \\mathbb{R}^n$. Then by the chain rule we have\n",
        "\\begin{align*}\n",
        "g'&=v^{\\top}\\nabla f(x+tv)\\\\\n",
        "g'' &= v^{\\top}\\nabla^2 f(x+tv)v\n",
        "\\end{align*}\n",
        "\n",
        "which exists as long as $f$ is twice differentiable. Moreover, to see that $g$ is convex, consider the change of variables $y=x+sv, z=x+tv$. Then with some rearranging we see\n",
        "\n",
        "\\begin{align*}\n",
        "  f(y)&\\geq f(z) + \\nabla f(z)(y-z)\\\\\n",
        "  f(x+sv) &\\geq f(x+tv)+\\underbrace{\\nabla f(x+tv)v}_{=g'(t)} (s-t)\\\\\n",
        "  g(s) &\\geq g(t) + g'(t)(s-t)\n",
        "\\end{align*}\n",
        "\n",
        "and therefore $g$ is convex. By the theorem in the notes, we have that $g''(t)>0 \\, ∀t\\in\\mathbb{R}$. Therefore,\n",
        "$$g''(t) = v^{\\top}\\nabla^2 f(x+tv)v\\geq0\\,\\,\\forall x,v \\in \\mathbb{R}^n, t \\in \\mathbb{R}$$\n",
        "Letting $t=0$ yields the desired result.\n"
      ]
    },
    {
      "cell_type": "markdown",
      "metadata": {
        "id": "lyzVC4tQj5fJ"
      },
      "source": [
        "***\n",
        "\n",
        "### Question 2.3: A quick recap of momentum [1 point]"
      ]
    },
    {
      "cell_type": "markdown",
      "metadata": {
        "id": "SiJgLthrj5fJ"
      },
      "source": [
        "1) Eigendecomposition allows us to leverage the system's preferred directions, meaning we operate within a coordinate framework where the coordinates $w^1, \\ldots, w^k$ align with our objective function's directions. In the original coordinate system, a gradient descent step may intertwine several coordinates, but in the transformed system, these coordinates become independent of one another. This independence enables us to examine the gradient descent process in each direction individually, with $\\lambda_i$ indicating the rate of convergence in each newly defined direction.\n",
        "\n",
        "2) The issue with this gradient descent approach becomes evident when the condition number, $\\lambda_n / \\lambda_i$, is large. This discrepancy suggests that convergence occurs rapidly in certain directions and slowly in others. The learning rate, given by $\\frac{\\lambda_n / \\lambda_i - 1}{\\lambda_n / \\lambda_i + 1}$, is applied uniformly across all directions, as illustrated by:\n",
        "\\begin{equation*}\n",
        "w_{k+1} =  w_k - \\alpha (\\boldsymbol{\\lambda} \\cdot w_k)\n",
        "\\end{equation*}\n",
        "where $\\boldsymbol{\\lambda} \\cdot \\boldsymbol{x}_k$ denotes element-wise multiplication and in this case $\\boldsymbol{\\lambda}$ is a scalar multiple of the 1-vector by the learning rate. Consequently, if $\\lambda$ is large in one direction and the learning rate is also high, it's likely we'll surpass the optimal point in that direction. Conversely, if $\\lambda$ is small in a certain direction and the learning rate is correspondingly low, convergence may not be achieved.\n",
        "Therefore, the central problem lies in the uniform application of the learning rate across all directions, despite varying rates of convergence among them.\n",
        "\n",
        "3) In the lecture notes, the update mechanism for momentum is characterized by the equation $\\boldsymbol{w}_{k+1} \\propto R^{k+1}$. This equation signifies that understanding the characteristics of the matrix $R$ can inform us about the potential for convergence in the iterative process. Specifically, if the norm $\\Vert R^k \\Vert$ stays within limits for all $k$, this indicates that the sequence $\\boldsymbol{w}_k$ is unlikely to diverge. The analysis further clarifies that the norm of $R$ is restricted by $\\max{i} |e_i|^k$, with $e_i$ being the eigenvalues of $R$. Consequently, if the maximum absolute eigenvalue, $\\max |e_i|$, is less than 1, it implies that this upper limit will diminish to zero as $k$ approaches infinity, signaling convergence.\n",
        "Crucially, $R$ incorporates two modifiable hyperparameters: the learning rate $\\alpha$ and the momentum rate $\\beta$. Adjusting these parameters allows us to ensure that $\\max |e_i| < 1$. This flexibility is key for steering the iterative updates towards convergence by fine-tuning the conditions under which the momentum mechanism functions.\n",
        "\n",
        "4) In the analysis presented in the lecture notes, when the discriminant is negative, we encounter a pair of complex conjugate eigenvalues, $\\lambda_1$ and $\\lambda_2$, where $\\lambda_1 = \\lambda_2^*$. Our goal, as outlined in section (3), is to ensure that $\\max |\\lambda_i|$ is less than 1. Under these conditions, we determine that:\n",
        "\\begin{equation*}\n",
        "|e_1| = |e_2| = \\sqrt{e_1 \\cdot e_2^*} = \\sqrt{\\text{det}(R)} = \\sqrt{\\beta}.\n",
        "\\end{equation*}\n",
        "Given that $\\beta$ is a hyperparameter within our control, this analysis indicates that we can directly influence the convergence rate by adjusting $\\beta$. This influence is exerted independently of other hyperparameters, such as $\\alpha$, allowing for their independent optimization. This independence is crucial for fine-tuning the convergence behavior of our system without the interdependencies that typically complicate hyperparameter adjustment.\n"
      ]
    },
    {
      "cell_type": "markdown",
      "metadata": {
        "id": "gOUmPqsHj5fJ"
      },
      "source": [
        "***\n",
        "\n",
        "### Question 2.4: Convergence proof [3 points]"
      ]
    },
    {
      "cell_type": "markdown",
      "metadata": {
        "id": "T_jjlmzgj5fK"
      },
      "source": [
        "We will prove the following theorem:\n",
        "\n",
        "*Suppose $f\\in C^3(\\mathbb{R})$ and $x^*\\in\\mathbb{R}^d$ such that $\\nabla f(x^*)=0$ and $\\det [\\nabla^2 f(x)]\\neq0$. Then $∃ ϵ>0$ such that iterations of Newton's method starting from any point $x_0\\in B_{ϵ} (x^*)$ are well-defined and converge to $x^*$. Moreover the rate of convergence is quadratic.*\n",
        "\n",
        "*Proof.*\n",
        "\n",
        "\n",
        "\n",
        "1.   The evolution of Newton's gradient descent method is governed by the updated rule\n",
        "$$x^{(n+1)}=x^{(n)}-(∇^2f(x^{(n)}))^{-1}∇f(x^{(n)})$$\n",
        "for $n=0,1,2,\\dots$. This method will perform a gradient descent on the quadratic approximation of $f$.\n",
        "\n",
        "2.   Let $f(x)=\\frac{1}{2}x^{\\top} Q x + b^{\\top}x+c$. Then the derivative of $f$ is given by\n",
        "$$\\nabla f(x)=\\frac{1}{2}Q^{\\top}x+\\frac{1}{2}Qx+b$$\n",
        "If we further assume that $Q$ is symmetric positive definite, this simplifies to\n",
        "$$\\nabla f(x)=Qx+b$$\n",
        "and moreover\n",
        "$$\\nabla^2 f(x)=Q$$\n",
        "so that $f$ is convex in $\\mathbb{R}$ and hence has a unique minimiser. Let $x^{(0)}\\in\\mathbb{R}^d$ be arbitrary. Then the first update is given by \n",
        "\\begin{align*}x^{(1)}&=x^{(0)}-Q^{-1}(Qx^{(0)}+b)\\\\\n",
        "&=x^{(0)}-x^{(0)}-Q^{-1}b\\\\\n",
        "&=-Q^{-1}b\\end{align*}\n",
        "Consider the gradient at this point: we have $∇f(x^{(1)})=-QQ^{-1}b+b=0$. By the properties of convex functions this means that $x^{(1)}$ is the unique global minimiser and moreover the Newton update value will clearly equal zero.\n",
        "\n",
        "3. Newton's method converged in a single step for quadratic forms because it optimises a local quadratic approximation to the function. Of course, when the function is quadratic, Newton's method optimises the global function and therefore finds immediately the global minimum by effectively selecting the point at which the gradient is zero.\n",
        "\n",
        "4. We claim that\n",
        "$$\\|x^{(1)}-x^*\\|\\leq\\|(\\nabla^2f(x^{(0)}))^{-1}\\|\\|∇^2f(x^{(0)})(x^{(0)}-x^*)-\\nabla f(x^{(0)})\\|$$\n",
        "To see this we represent $x^{(1)}$ in the form of Newton's iterative step and multiply out the left hand side. Consider:\n",
        "\\begin{align*}\n",
        "\\|x^{(1)}-x^*\\|&=\\|x^{(0)} - \\nabla^2f(x^{(0)}))^{-1}\\nabla f(x^{(0)}) - x^*\\|\\\\\n",
        "&= \\|\\nabla^2f(x^{(0)}))^{-1}\\left[-\\nabla f(x^{(0)}) - (x^*-x^{(0)})\\nabla^2f(x^{(0)})\\right]\\|\\\\\n",
        "&\\leq \\|\\nabla^2f(x^{(0)}))^{-1}\\|\\|-\\nabla f(x^{(0)}) - (x^*-x^{(0)})\\nabla^2f(x^{(0)})\\|\\\\\n",
        "&= \\|\\nabla^2f(x^{(0)}))^{-1}\\|\\|\\nabla^2f(x^{(0)})(x^{(0)}-x^*)-\\nabla f(x^{(0)})\\|\n",
        "\\end{align*}\n",
        "exactly as required, where we use the triangle-like equality given in Lemma 0.1 to multiply out the norm. We note that the inverse norm $\\|\\nabla^2f(x^{(0)}))^{-1}\\|$ exists and is finite on some ball around $x^*$ according to Lemma 0.2"
      ]
    },
    {
      "cell_type": "markdown",
      "metadata": {
        "id": "TkmTiHdaShlu"
      },
      "source": [
        "***\n",
        "\n",
        "### Question 2.5: Convergence continued\n",
        "\n",
        "We will show that for $x^{(1)}$ defined above in terms of $x^{(0)}$, we have that there exists $\\epsilon>0$ such that for any $x^{(0)}\\in B_{ϵ}(x^*) \\,∃ c_1, c_2 >0$ satisfying\n",
        "$$\\|x^{(1)}-x^*\\|\\leq c_1 c_2 \\|x^{(0)}-x^*\\|^2$$\n",
        "that is, local convergence to the point $x^*$ is quadratic in the first iteration.\n",
        "\n",
        "*Proof*. Consider \n",
        "\\begin{align*}\n",
        "\\|x^{(1)}-x^*\\|&\\leq\\underbrace{\\|\\nabla^2f(x^{(0)}))^{-1}\\|}_{\\text{(1) bounded by } c_1}\\|\\nabla^2f(x^{(0)})(x^{(0)}-x^*)-\\nabla f(x^{(0)})\\|\\\\\n",
        "&\\leq c_1 \\|\\underbrace{\\nabla^2f(x^{(0)})(x^{(0)}-x^*)-\\nabla f(x^{(0)})}_{(2)}\\|\n",
        "\\end{align*}\n",
        "\n",
        "by Lemma 0.1. We know that $(1)$ is true because by the assumption in the problem statement, $\\nabla^2 f(x^*)$ is invertible. Therefore by Lemma 0.2 there exists an $ϵ_h>0$ such that $(\\nabla^2 f(x))^{-1}$ exists on $B_{ϵ_h}(x^*)$. Let $ϵ_d=\\min\\{ϵ, ϵ_h\\}$. Then we may set $c_1=\\sup_{x\\in B_{\\epsilon_d}(x^*)}\\frac{1}{\\|∇^2f(x)\\|}$, which is well-defined as a result.\n",
        "\n",
        "\n",
        "We now deal with $(2)$. We know that $f$ has a continuous third derivative at $x^*$. By the 2nd order Taylor approximation of $∇f$ (which is twice continuously differentiable) we have that for some $\\xi$ on the line segment between $x^{(0)}$ and $x^*$:\n",
        "$$0 = \\nabla f(x^*) = ∇ f(x^{(0)}) + \\nabla^2f(x^{(0)})(x^*-x^{(0)}) + \\frac{1}{2}\\nabla^3f(\\xi)(x^*-x^{(0)})^2$$\n",
        "\n",
        "Hence we rewrite $(2)$ as $\\frac{∇^3f\\left(\\xi\\right)}{2!}(x^*-x^{(0)})^2$ to yield\n",
        "\n",
        "\\begin{align*}\n",
        "\\left\\|\\frac{∇^3f\\left(\\xi\\right)}{2!}(x^*-x^{(0)})^2\\right\\|\n",
        "&\\leq \\underbrace{\\left\\|\\frac{∇^3f\\left(\\xi\\right)}{2}\\right\\|}_{\\leq c_2}\\left\\|(x^*-x^{(0)})^2\\right\\|\\\\\n",
        "&\\leq c_2 \\left\\|(x^*-x^{(0)})\\right\\|^2\n",
        "\\end{align*}\n",
        "by Lemma 0.1, where we can bound $\\|\\nabla^3f\\|$ with appropriate selection of sufficiently small $ϵ$ using the fact that $f\\in C^3(\\mathbb{R})$ and hence $∇^3f$ is continuous on $B_{\\epsilon}(x^*)$. We then set $c_2=\\frac{1}{2}\\sup_{x\\in L}\\|∇^3f(x)\\|$ where $x$ is the line segment and in this scenario, $\\|\\cdot\\|$ is an induced tensor norm, assuming that Lemma 0.1 holds inductively for tensors acting on a vector. Putting all this together we obtain the desired result.\n",
        "\n",
        "*Note: if you are against the use of an unspecified tensor product and norm, an alternative way to obtain $c_2$ is to note that the expression in $(2)$ is $O(\\left\\|(x^*-x^{(0)})\\right\\|^2)$, which defines a constant upper bound $c_2$ on some open ball. We simply take $ϵ$ to be the minimum of the radii of all of these balls.*"
      ]
    },
    {
      "cell_type": "markdown",
      "metadata": {
        "id": "SOAL1Q-mdgOn"
      },
      "source": [
        "***\n",
        "### Question 2.6: Convergence Continued\n",
        "\n",
        "We will now show that if $x^{(0)}\\in B_{\\epsilon}(x^*)$ for some $ϵ>0$ satisfies\n",
        "$$\\|x^{(0)}-x^*\\|\\leq\\frac{\\alpha}{c_1c_2}$$\n",
        "for some $0<\\alpha<1$ then we have that $x_1\\in B_{\\epsilon}(x^*)$ and moreover that\n",
        "$$\\|x^{(1)}-x^*\\|\\leq\\frac{\\alpha}{c_1c_2}$$\n",
        "\n",
        "*Proof*. To see the second statement note that $$\\begin{align*}\\|x^{(1)}-x^*\\|&\\leq c_1 c_2 \\|x^{(0)}-x^*\\|^2\\\\\n",
        "&\\leq c_1 c_2\\frac{\\alpha^2}{c_1^2c_2^2} \\\\\n",
        "&= \\frac{\\alpha^2}{c_1c_2}\\\\\n",
        "&\\leq \\frac{\\alpha}{c_1c_2} \\end{align*}$$\n",
        "where $\\alpha<1$. To set $\\epsilon$, again choose the intersection of the ball of radius $\\frac{\\alpha}{c_1c_2}$ and the ball on which the Hessian inverse is defined to yield $x_1\\in B_{\\epsilon}(x^*)$.\n",
        "\n"
      ]
    },
    {
      "cell_type": "markdown",
      "metadata": {
        "id": "oSIbCQxyMy1U"
      },
      "source": [
        "***\n",
        "\n",
        "#### Question 2.7: Convergence continued\n",
        "\n",
        "Let $x^{(k)}\\in B_{ϵ}(x^*), k \\in \\mathbb{N}$ arbitrary. We will derive an upper bound for $\\|x^{(k+1)}-x^*\\|$ in terms of $\\|x^{(k)}-x^*\\|$ where $x^{(k)} \\in B_{\\frac{\\alpha}{c_1c_2}}(x^*)$.\n",
        "\n",
        "*Proof*. Using 2.7, given we made no assumption on the nature of $x_0$, the upper bound is exactly the same. Specifically, we have that if\n",
        "$$\\|x^{(k)}-x^*\\|\\leq \\frac{α}{c_1c_2}$$\n",
        "then from 2.7\n",
        "$$\\|x^{(k+1)}-x^{*}\\|\\leq \\frac{\\alpha ^2}{c_1c_2}$$\n",
        "\n",
        "noting that $\\alpha^2 \\leq\n",
        "\\alpha$. Moreover we have that\n",
        "\\begin{equation*}\\|x^{(k+1)}-x^{*}\\|\\leq c_1c_2\\|x^{(k)}-x^{*}\\|^2 \\end{equation*} \n",
        "using similar arguments to above."
      ]
    },
    {
      "cell_type": "markdown",
      "metadata": {
        "id": "kHP1n6RvdSem"
      },
      "source": [
        "***\n",
        "\n",
        "#### Question 2.8: Final step\n",
        "\n",
        "Inductively, for all $k \\in \\mathbb{N}_0$ we have that $\\|x^{(k)}-x^*\\|\\leq\\frac{α}{c_1c_2}$ implies $\\|x^{(k+1)}-x^*\\|\\leq\\frac{α^2}{c_1c_2}$. This implies convergence as $\\alpha^k \\to 0$. To see that the rate is quadratic, we note that under our induction hypothesis as in that on $x^{(0)}$,\n",
        "$$\\|x^{(k+1)}-x^{*}\\|\\leq c_1c_2\\|x^{(k)}-x^{*}\\|^2$$\n",
        "which, letting $M=c_1c_2$, is exactly quadratic convergence."
      ]
    },
    {
      "cell_type": "markdown",
      "metadata": {
        "id": "J3BG7QV3j5fK"
      },
      "source": [
        "***\n",
        "***\n",
        "\n",
        "## Part 3: A deeper dive into neural network implementations [3 points]"
      ]
    },
    {
      "cell_type": "code",
      "execution_count": 1,
      "metadata": {
        "id": "5hIpMzMHj5fK"
      },
      "outputs": [],
      "source": [
        "# Import libraries\n",
        "import numpy as np\n",
        "import pandas as pd\n",
        "import torch\n",
        "import torch.nn as nn\n",
        "import torchvision\n",
        "import torchvision.transforms as transforms\n",
        "import torch.optim as optim\n",
        "import matplotlib.pyplot as plt\n",
        "import seaborn as sns\n"
      ]
    },
    {
      "cell_type": "code",
      "execution_count": 2,
      "metadata": {
        "colab": {
          "base_uri": "https://localhost:8080/"
        },
        "id": "glSwAQZNj5fL",
        "outputId": "025e5bf9-ddb9-4b1b-af14-fba66b47d7bf"
      },
      "outputs": [
        {
          "name": "stdout",
          "output_type": "stream",
          "text": [
            "Downloading http://yann.lecun.com/exdb/mnist/train-images-idx3-ubyte.gz\n",
            "Downloading http://yann.lecun.com/exdb/mnist/train-images-idx3-ubyte.gz to ./MNIST/raw/train-images-idx3-ubyte.gz\n"
          ]
        },
        {
          "name": "stderr",
          "output_type": "stream",
          "text": [
            "100%|██████████| 9912422/9912422 [00:00<00:00, 64140647.65it/s]\n"
          ]
        },
        {
          "name": "stdout",
          "output_type": "stream",
          "text": [
            "Extracting ./MNIST/raw/train-images-idx3-ubyte.gz to ./MNIST/raw\n",
            "\n",
            "Downloading http://yann.lecun.com/exdb/mnist/train-labels-idx1-ubyte.gz\n",
            "Downloading http://yann.lecun.com/exdb/mnist/train-labels-idx1-ubyte.gz to ./MNIST/raw/train-labels-idx1-ubyte.gz\n"
          ]
        },
        {
          "name": "stderr",
          "output_type": "stream",
          "text": [
            "100%|██████████| 28881/28881 [00:00<00:00, 5532826.06it/s]\n"
          ]
        },
        {
          "name": "stdout",
          "output_type": "stream",
          "text": [
            "Extracting ./MNIST/raw/train-labels-idx1-ubyte.gz to ./MNIST/raw\n",
            "\n",
            "Downloading http://yann.lecun.com/exdb/mnist/t10k-images-idx3-ubyte.gz\n",
            "Downloading http://yann.lecun.com/exdb/mnist/t10k-images-idx3-ubyte.gz to ./MNIST/raw/t10k-images-idx3-ubyte.gz\n"
          ]
        },
        {
          "name": "stderr",
          "output_type": "stream",
          "text": [
            "100%|██████████| 1648877/1648877 [00:00<00:00, 43952560.21it/s]\n"
          ]
        },
        {
          "name": "stdout",
          "output_type": "stream",
          "text": [
            "Extracting ./MNIST/raw/t10k-images-idx3-ubyte.gz to ./MNIST/raw\n",
            "\n",
            "Downloading http://yann.lecun.com/exdb/mnist/t10k-labels-idx1-ubyte.gz\n",
            "Downloading http://yann.lecun.com/exdb/mnist/t10k-labels-idx1-ubyte.gz to ./MNIST/raw/t10k-labels-idx1-ubyte.gz\n"
          ]
        },
        {
          "name": "stderr",
          "output_type": "stream",
          "text": [
            "100%|██████████| 4542/4542 [00:00<00:00, 2978506.69it/s]\n"
          ]
        },
        {
          "name": "stdout",
          "output_type": "stream",
          "text": [
            "Extracting ./MNIST/raw/t10k-labels-idx1-ubyte.gz to ./MNIST/raw\n",
            "\n",
            "Downloading https://www.cs.toronto.edu/~kriz/cifar-10-python.tar.gz to ./cifar-10-python.tar.gz\n"
          ]
        },
        {
          "name": "stderr",
          "output_type": "stream",
          "text": [
            "100%|██████████| 170498071/170498071 [00:07<00:00, 21578161.24it/s]\n"
          ]
        },
        {
          "name": "stdout",
          "output_type": "stream",
          "text": [
            "Extracting ./cifar-10-python.tar.gz to ./\n",
            "Files already downloaded and verified\n"
          ]
        }
      ],
      "source": [
        "# Download datasets\n",
        "train_set_mnist = torchvision.datasets.MNIST(root=\"./\", download=True,\n",
        "                                         train=True, transform=transforms.Compose([transforms.ToTensor()]))\n",
        "\n",
        "test_set_mnist = torchvision.datasets.MNIST(root=\"./\",download=True,\n",
        "                                        train=False,transform=transforms.Compose([transforms.ToTensor()]),)\n",
        "\n",
        "train_set_cifar = torchvision.datasets.CIFAR10(root=\"./\", download=True,\n",
        "                                         train=True, transform=transforms.Compose([transforms.ToTensor()]))\n",
        "\n",
        "test_set_cifar = torchvision.datasets.CIFAR10(root=\"./\",download=True,\n",
        "                                        train=False,transform=transforms.Compose([transforms.ToTensor()]),)"
      ]
    },
    {
      "cell_type": "code",
      "execution_count": 3,
      "metadata": {
        "colab": {
          "base_uri": "https://localhost:8080/"
        },
        "id": "vswZJ6x7j5fN",
        "outputId": "d6d36459-ce99-414e-8fe9-543915d1af32"
      },
      "outputs": [
        {
          "data": {
            "text/plain": [
              "<torch._C.Generator at 0x1195cde90>"
            ]
          },
          "execution_count": 3,
          "metadata": {},
          "output_type": "execute_result"
        }
      ],
      "source": [
        "SEED = 1843211\n",
        "np.random.seed(SEED)\n",
        "torch.manual_seed(SEED)"
      ]
    },
    {
      "cell_type": "markdown",
      "metadata": {
        "id": "a_bBSuCfj5fN"
      },
      "source": [
        "***\n",
        "\n",
        "### Part 3.1: Implementations [1 point]"
      ]
    },
    {
      "cell_type": "markdown",
      "metadata": {
        "id": "pH8W821Fj5fN"
      },
      "source": [
        "We implement the fully-connected neural network as in the description of the question. We will build a class that has five types of layers: : i) a layer that flattens the input (`self.flatten`), ii) a\n",
        "linear layer that takes the input and connects it to a hidden layer (`self.linear1`), iii) a linear\n",
        "layer that takes a hidden layer and connects it to the next hidden layer (`self.linear2`), iv)\n",
        "a ReLU activation layer (`self.relu`), v) a linear layer that connects the hidden layer to\n",
        "the output (`self.linear3`). We will allow the number of linear -> ReLU interior layers to vary with the `depth` hyperparameter."
      ]
    },
    {
      "cell_type": "code",
      "execution_count": 4,
      "metadata": {
        "id": "XNesFurzj5fN"
      },
      "outputs": [],
      "source": [
        "class Net(nn.Module):\n",
        "    \"\"\"\n",
        "    A simple neural network with variable width and depth.\n",
        "    Parameters:\n",
        "    - dim: int, the input dimension\n",
        "    - nclass: int, the number of classes\n",
        "    - width: int, the width of the hidden layers\n",
        "    - depth: int, the number of hidden layers\n",
        "    \"\"\"\n",
        "    def __init__(self, dim, nclass, width, depth):\n",
        "        super().__init__()\n",
        "        self.dim = dim\n",
        "        self.nclass = nclass\n",
        "        self.width = width\n",
        "        self.depth = depth\n",
        "        self.flatten = nn.Flatten()\n",
        "        self.linear1 = nn.Linear(dim, width)\n",
        "        self.linear2 = nn.Linear(width, width)\n",
        "        self.relu = nn.ReLU()\n",
        "        self.linear3 = nn.Linear(width, nclass)\n",
        "\n",
        "    def forward(self, input):\n",
        "        \"\"\"\n",
        "        Forward pass of the network.\n",
        "        Parameters:\n",
        "        - input: torch.Tensor, the input data\n",
        "        Returns:\n",
        "        - output: torch.Tensor, the output of the network\n",
        "        \"\"\"\n",
        "        output = self.flatten(input)\n",
        "        output = self.linear1(output)\n",
        "        output = self.relu(output)\n",
        "        for i in range(self.depth-1):\n",
        "            output = self.linear2(output)\n",
        "            output = self.relu(output)\n",
        "        output = self.linear3(output)\n",
        "        return output"
      ]
    },
    {
      "cell_type": "markdown",
      "metadata": {
        "id": "3WgPDqVQV5Fl"
      },
      "source": [
        "We define a function that loads the data given a certain batchsize. We use the `torch.utils.data.DataLoader` function."
      ]
    },
    {
      "cell_type": "code",
      "execution_count": 5,
      "metadata": {
        "id": "pMMofLwHj5fO"
      },
      "outputs": [],
      "source": [
        "# Task 2\n",
        "def load_data(batch_size, train_set, test_set):\n",
        "    \"\"\"\n",
        "    Load data into trainloader and testloader.\n",
        "    \n",
        "    Args:\n",
        "        batch_size: int, the batch size   \n",
        "        train_set: torch.utils.data.Dataset, the training dataset\n",
        "        test_set: torch.utils.data.Dataset, the test dataset\n",
        "    Returns:\n",
        "        trainloader: torch.utils.data.DataLoader, the training data loader\n",
        "        testloader: torch.utils.data.DataLoader, the test data loader\n",
        "    \"\"\"\n",
        "    trainloader = torch.utils.data.DataLoader(train_set, batch_size=batch_size, shuffle=True)\n",
        "    testloader = torch.utils.data.DataLoader(test_set, batch_size=batch_size, shuffle=True)\n",
        "    return trainloader, testloader"
      ]
    },
    {
      "cell_type": "markdown",
      "metadata": {
        "id": "dg-uMF8NWCdJ"
      },
      "source": [
        "We implement functions now to train and test a single epoch.\n",
        "\n",
        "The train function will pass over all the items in `trainloader`, compute the model output, compute the loss associated to the\n",
        "criterion, and take an update step for the optimization algorithm.\n",
        "\n",
        "The test function will take as input the test data and compute the loss and the error over all the test dataset."
      ]
    },
    {
      "cell_type": "code",
      "execution_count": 6,
      "metadata": {
        "id": "yBf-6piTj5fO"
      },
      "outputs": [],
      "source": [
        "def train_epoch(trainloader, net, optimizer, criterion):\n",
        "    \"\"\"\n",
        "    Trains the network for one epoch.\n",
        "\n",
        "    Args:\n",
        "        trainloader: The training data loader.\n",
        "        net: The network to train.\n",
        "        optimizer: The optimizer to use.\n",
        "        criterion: The loss function to use.\n",
        "\n",
        "    Returns:\n",
        "        The average train loss over the epoch.\n",
        "        The train error over the epoch.\n",
        "    \"\"\"\n",
        "    # Set the network to training mode\n",
        "    net.train()\n",
        "    # Initialize the loss and error\n",
        "    total_loss = 0\n",
        "    total_error = 0\n",
        "    # Loop over the training set\n",
        "    for i, (images, labels) in enumerate(trainloader):\n",
        "        optimizer.zero_grad()\n",
        "        outputs = net(images)\n",
        "        loss = criterion(outputs, labels)\n",
        "        loss.backward()\n",
        "        optimizer.step()\n",
        "        # Update the loss and error\n",
        "        total_loss += loss.item()\n",
        "        total_error += (outputs.argmax(dim=1) != labels).sum().item()\n",
        "\n",
        "\n",
        "    return total_loss / len(trainloader), total_error / len(trainloader.dataset) # Return the average train loss and train error"
      ]
    },
    {
      "cell_type": "code",
      "execution_count": 7,
      "metadata": {
        "id": "fZNeA4RQj5fO"
      },
      "outputs": [],
      "source": [
        "# Task 4\n",
        "def test_epoch(testloader, net, criterion):\n",
        "    \"\"\"\n",
        "    Tests the network.\n",
        "    \n",
        "    Args:\n",
        "        testloader: The test data loader.\n",
        "        net: The network to test.\n",
        "        criterion: The loss function to use.\n",
        "    Returns:\n",
        "        The average test loss.\n",
        "        The test error.\n",
        "    \"\"\"\n",
        "    #Set network to eval mode\n",
        "    net.eval()\n",
        "    total_loss = 0\n",
        "    total_error = 0\n",
        "    num_samples = 0\n",
        "    with torch.no_grad():\n",
        "        for data in testloader:\n",
        "            inputs, labels = data\n",
        "            outputs = net(inputs)\n",
        "            loss = criterion(outputs, labels)\n",
        "            total_loss += loss.item() * inputs.size(0)\n",
        "            _, predicted = torch.max(outputs.data, 1)\n",
        "            total_error += (predicted != labels).sum().item()\n",
        "            num_samples += inputs.size(0)\n",
        "    avg_loss = total_loss / num_samples\n",
        "    error_rate = total_error / num_samples\n",
        "    return avg_loss, error_rate"
      ]
    },
    {
      "cell_type": "markdown",
      "metadata": {
        "id": "bYYpk1MKWlbj"
      },
      "source": [
        "We now for convenience assemple into a function `main` code that will set hyperparameters and train and test varying epochs. We will use this varyingly when choosing hyperparameters and evaluating affect of width and depth on network output."
      ]
    },
    {
      "cell_type": "code",
      "execution_count": 8,
      "metadata": {
        "id": "PbIOulgoj5fP"
      },
      "outputs": [],
      "source": [
        "def main(batch_size, dim, nclass, width, depth, lr, epochs, train_set, test_set, Adam=True, verbose=True):\n",
        "    \"\"\"\n",
        "    This function runs the training and testing epochs.\n",
        "\n",
        "    Args:\n",
        "        batch_size (int): The batch size.\n",
        "        dim (int): The dimension of the input.\n",
        "        nclass (int): The number of classes.\n",
        "        width (int): The width of the hidden layers.\n",
        "        depth (int): The number of hidden layers.\n",
        "        lr (float): The learning rate.\n",
        "        epochs (int): The number of epochs.\n",
        "        train_set (torch.utils.data.Dataset): The training set.\n",
        "        test_set (torch.utils.data.Dataset): The test set.\n",
        "        Adam (bool): Whether to use Adam or SGD.\n",
        "        verbose (bool): Whether to print the results.\n",
        "\n",
        "    Returns:\n",
        "        The train loss over the epochs.\n",
        "        The test loss over the epochs.\n",
        "        The train error over the epochs.\n",
        "        The test error over the epochs.\n",
        "    \"\"\"\n",
        "\n",
        "    # load data\n",
        "    trainloader, testloader = load_data(batch_size, train_set, test_set)\n",
        "\n",
        "    # Create the network\n",
        "    net = Net(dim, nclass, width, depth)\n",
        "\n",
        "    # Cross entropy criterion\n",
        "    criterion = nn.CrossEntropyLoss()\n",
        "\n",
        "    # Select optimiser\n",
        "    if Adam:\n",
        "        optimizer = optim.Adam(net.parameters(), lr=lr)\n",
        "    else:\n",
        "        optimizer = optim.SGD(net.parameters(), lr=lr)\n",
        "\n",
        "    # Storing the results for each epoch\n",
        "    store_train_loss = []\n",
        "    store_test_loss = []\n",
        "    store_train_error = []\n",
        "    store_test_error = []\n",
        "    for epoch in range(1, epochs+1): # Loop over the epochs\n",
        "        train_loss, train_error = train_epoch(trainloader, net, optimizer, criterion) # Train the network\n",
        "        test_loss, test_error = test_epoch(testloader, net, criterion) # Test the network\n",
        "        store_train_loss.append(train_loss) # Store the train loss\n",
        "        store_test_loss.append(test_loss) # Store the test loss\n",
        "        store_train_error.append(train_error) # Store the train error\n",
        "        store_test_error.append(test_error) # Store the test error\n",
        "        if verbose:\n",
        "            print(f\"Epoch: {epoch:03} | Train Loss: {train_loss:.04} | Test Loss: {test_loss:.04} | Train Error: {train_error:.04} | Test Error: {test_error:.04}\")\n",
        "    return store_train_loss, store_test_loss, store_train_error, store_test_error"
      ]
    },
    {
      "cell_type": "markdown",
      "metadata": {
        "id": "dU0pm_38j5fP"
      },
      "source": [
        "***\n",
        "\n",
        "### Part 3.2: Numerical exploration [2 points]"
      ]
    },
    {
      "cell_type": "markdown",
      "metadata": {
        "id": "FUAIoHa2j5fP"
      },
      "source": [
        "We now evaluate the performance of the NN on the MNIST dataset. We will use a batch size of 32 consistent with literature. We will use the Adam optimiser for faster convergence as it performs better than vanilla SGD on this complex loss landscape. However, we could achieve similar results with SGD given careful adjustment of the learnin rate.\n",
        "\n",
        "We will set the learning rate to 0.001 as after exploration this seems to be the optimal choice for this hyperparameter which yields sufficient convergence for large depths whilst still achieving some minimisation for large layer widths."
      ]
    },
    {
      "cell_type": "code",
      "execution_count": 9,
      "metadata": {
        "colab": {
          "base_uri": "https://localhost:8080/"
        },
        "id": "KaqbsYxuj5fP",
        "outputId": "3293a034-2907-422c-bafa-b73742a667ed"
      },
      "outputs": [
        {
          "name": "stdout",
          "output_type": "stream",
          "text": [
            "Depth: 1\n"
          ]
        },
        {
          "name": "stdout",
          "output_type": "stream",
          "text": [
            "Epoch: 001 | Train Loss: 0.2535 | Test Loss: 0.127 | Train Error: 0.07147 | Test Error: 0.0373\n",
            "Epoch: 002 | Train Loss: 0.1025 | Test Loss: 0.09952 | Train Error: 0.0306 | Test Error: 0.0299\n",
            "Epoch: 003 | Train Loss: 0.06813 | Test Loss: 0.07662 | Train Error: 0.0213 | Test Error: 0.0237\n",
            "Epoch: 004 | Train Loss: 0.04863 | Test Loss: 0.06841 | Train Error: 0.01557 | Test Error: 0.0224\n",
            "Epoch: 005 | Train Loss: 0.03589 | Test Loss: 0.07111 | Train Error: 0.011 | Test Error: 0.0229\n",
            "Epoch: 006 | Train Loss: 0.02785 | Test Loss: 0.07155 | Train Error: 0.0088 | Test Error: 0.021\n",
            "Epoch: 007 | Train Loss: 0.02057 | Test Loss: 0.0714 | Train Error: 0.0064 | Test Error: 0.0198\n",
            "Epoch: 008 | Train Loss: 0.01748 | Test Loss: 0.07106 | Train Error: 0.005433 | Test Error: 0.019\n",
            "Epoch: 009 | Train Loss: 0.01332 | Test Loss: 0.07248 | Train Error: 0.004083 | Test Error: 0.0203\n",
            "Epoch: 010 | Train Loss: 0.01198 | Test Loss: 0.07162 | Train Error: 0.0039 | Test Error: 0.019\n",
            "Epoch: 011 | Train Loss: 0.009906 | Test Loss: 0.1004 | Train Error: 0.003333 | Test Error: 0.0227\n",
            "Epoch: 012 | Train Loss: 0.008926 | Test Loss: 0.09217 | Train Error: 0.002967 | Test Error: 0.0208\n",
            "Epoch: 013 | Train Loss: 0.007646 | Test Loss: 0.08273 | Train Error: 0.0025 | Test Error: 0.019\n",
            "Epoch: 014 | Train Loss: 0.007303 | Test Loss: 0.09041 | Train Error: 0.001917 | Test Error: 0.0185\n",
            "Epoch: 015 | Train Loss: 0.005975 | Test Loss: 0.09327 | Train Error: 0.002017 | Test Error: 0.0191\n",
            "Epoch: 016 | Train Loss: 0.005482 | Test Loss: 0.09906 | Train Error: 0.00185 | Test Error: 0.019\n",
            "Epoch: 017 | Train Loss: 0.006797 | Test Loss: 0.1025 | Train Error: 0.002283 | Test Error: 0.0208\n",
            "Epoch: 018 | Train Loss: 0.004892 | Test Loss: 0.09871 | Train Error: 0.00165 | Test Error: 0.0188\n",
            "Epoch: 019 | Train Loss: 0.005132 | Test Loss: 0.1177 | Train Error: 0.001583 | Test Error: 0.0216\n",
            "Epoch: 020 | Train Loss: 0.004618 | Test Loss: 0.1221 | Train Error: 0.001683 | Test Error: 0.0234\n",
            "Epoch: 021 | Train Loss: 0.005996 | Test Loss: 0.1014 | Train Error: 0.001767 | Test Error: 0.0195\n",
            "Epoch: 022 | Train Loss: 0.0052 | Test Loss: 0.1162 | Train Error: 0.0018 | Test Error: 0.0208\n",
            "Epoch: 023 | Train Loss: 0.003679 | Test Loss: 0.1174 | Train Error: 0.00125 | Test Error: 0.021\n",
            "Epoch: 024 | Train Loss: 0.004578 | Test Loss: 0.1055 | Train Error: 0.001467 | Test Error: 0.0179\n",
            "Epoch: 025 | Train Loss: 0.003887 | Test Loss: 0.1072 | Train Error: 0.00115 | Test Error: 0.0188\n",
            "Epoch: 026 | Train Loss: 0.004119 | Test Loss: 0.1242 | Train Error: 0.00115 | Test Error: 0.0177\n",
            "Epoch: 027 | Train Loss: 0.005374 | Test Loss: 0.1218 | Train Error: 0.001667 | Test Error: 0.0197\n",
            "Epoch: 028 | Train Loss: 0.003821 | Test Loss: 0.113 | Train Error: 0.001183 | Test Error: 0.0201\n",
            "Epoch: 029 | Train Loss: 0.003465 | Test Loss: 0.1175 | Train Error: 0.001117 | Test Error: 0.0188\n",
            "Epoch: 030 | Train Loss: 0.003031 | Test Loss: 0.1336 | Train Error: 0.001083 | Test Error: 0.019\n",
            "Depth: 5\n",
            "Epoch: 001 | Train Loss: 0.2721 | Test Loss: 0.1471 | Train Error: 0.0854 | Test Error: 0.0458\n",
            "Epoch: 002 | Train Loss: 0.11 | Test Loss: 0.09479 | Train Error: 0.03263 | Test Error: 0.0283\n",
            "Epoch: 003 | Train Loss: 0.08015 | Test Loss: 0.1061 | Train Error: 0.02398 | Test Error: 0.031\n",
            "Epoch: 004 | Train Loss: 0.06468 | Test Loss: 0.0955 | Train Error: 0.01942 | Test Error: 0.0264\n",
            "Epoch: 005 | Train Loss: 0.05043 | Test Loss: 0.09306 | Train Error: 0.01503 | Test Error: 0.0246\n",
            "Epoch: 006 | Train Loss: 0.04424 | Test Loss: 0.0827 | Train Error: 0.01377 | Test Error: 0.0202\n",
            "Epoch: 007 | Train Loss: 0.03655 | Test Loss: 0.08012 | Train Error: 0.01102 | Test Error: 0.017\n",
            "Epoch: 008 | Train Loss: 0.034 | Test Loss: 0.08894 | Train Error: 0.01042 | Test Error: 0.0218\n",
            "Epoch: 009 | Train Loss: 0.02901 | Test Loss: 0.0875 | Train Error: 0.0087 | Test Error: 0.0206\n",
            "Epoch: 010 | Train Loss: 0.02478 | Test Loss: 0.07838 | Train Error: 0.007567 | Test Error: 0.0209\n",
            "Epoch: 011 | Train Loss: 0.02553 | Test Loss: 0.09039 | Train Error: 0.007783 | Test Error: 0.0206\n",
            "Epoch: 012 | Train Loss: 0.02249 | Test Loss: 0.09178 | Train Error: 0.006617 | Test Error: 0.0195\n",
            "Epoch: 013 | Train Loss: 0.0217 | Test Loss: 0.1007 | Train Error: 0.006533 | Test Error: 0.0219\n",
            "Epoch: 014 | Train Loss: 0.02053 | Test Loss: 0.09663 | Train Error: 0.005733 | Test Error: 0.0187\n",
            "Epoch: 015 | Train Loss: 0.01707 | Test Loss: 0.114 | Train Error: 0.00485 | Test Error: 0.0197\n",
            "Epoch: 016 | Train Loss: 0.01781 | Test Loss: 0.1127 | Train Error: 0.005117 | Test Error: 0.0184\n",
            "Epoch: 017 | Train Loss: 0.01661 | Test Loss: 0.1162 | Train Error: 0.004933 | Test Error: 0.0162\n",
            "Epoch: 018 | Train Loss: 0.01724 | Test Loss: 0.09529 | Train Error: 0.0049 | Test Error: 0.0156\n",
            "Epoch: 019 | Train Loss: 0.01369 | Test Loss: 0.137 | Train Error: 0.003733 | Test Error: 0.0216\n",
            "Epoch: 020 | Train Loss: 0.01342 | Test Loss: 0.1216 | Train Error: 0.004183 | Test Error: 0.0216\n",
            "Epoch: 021 | Train Loss: 0.01566 | Test Loss: 0.1254 | Train Error: 0.00425 | Test Error: 0.0188\n",
            "Epoch: 022 | Train Loss: 0.01444 | Test Loss: 0.1087 | Train Error: 0.0039 | Test Error: 0.0193\n",
            "Epoch: 023 | Train Loss: 0.01297 | Test Loss: 0.13 | Train Error: 0.003433 | Test Error: 0.0207\n",
            "Epoch: 024 | Train Loss: 0.01466 | Test Loss: 0.1301 | Train Error: 0.003517 | Test Error: 0.0177\n",
            "Epoch: 025 | Train Loss: 0.01092 | Test Loss: 0.152 | Train Error: 0.003033 | Test Error: 0.0223\n",
            "Epoch: 026 | Train Loss: 0.01502 | Test Loss: 0.1524 | Train Error: 0.0041 | Test Error: 0.0224\n",
            "Epoch: 027 | Train Loss: 0.01315 | Test Loss: 0.1264 | Train Error: 0.003583 | Test Error: 0.0177\n",
            "Epoch: 028 | Train Loss: 0.01133 | Test Loss: 0.1674 | Train Error: 0.0031 | Test Error: 0.021\n",
            "Epoch: 029 | Train Loss: 0.01243 | Test Loss: 0.1299 | Train Error: 0.00295 | Test Error: 0.0196\n",
            "Epoch: 030 | Train Loss: 0.01215 | Test Loss: 0.1604 | Train Error: 0.003133 | Test Error: 0.0189\n",
            "Depth: 10\n",
            "Epoch: 001 | Train Loss: 0.7061 | Test Loss: 0.279 | Train Error: 0.2708 | Test Error: 0.0653\n",
            "Epoch: 002 | Train Loss: 0.2358 | Test Loss: 0.1918 | Train Error: 0.0597 | Test Error: 0.0475\n",
            "Epoch: 003 | Train Loss: 0.1692 | Test Loss: 0.2128 | Train Error: 0.04197 | Test Error: 0.0488\n",
            "Epoch: 004 | Train Loss: 0.1371 | Test Loss: 0.1469 | Train Error: 0.03338 | Test Error: 0.0334\n",
            "Epoch: 005 | Train Loss: 0.1116 | Test Loss: 0.118 | Train Error: 0.02713 | Test Error: 0.0271\n",
            "Epoch: 006 | Train Loss: 0.09608 | Test Loss: 0.1286 | Train Error: 0.02282 | Test Error: 0.0282\n",
            "Epoch: 007 | Train Loss: 0.08578 | Test Loss: 0.1306 | Train Error: 0.0206 | Test Error: 0.0295\n",
            "Epoch: 008 | Train Loss: 0.07627 | Test Loss: 0.1142 | Train Error: 0.0186 | Test Error: 0.0255\n",
            "Epoch: 009 | Train Loss: 0.07016 | Test Loss: 0.1172 | Train Error: 0.01685 | Test Error: 0.0249\n",
            "Epoch: 010 | Train Loss: 0.05847 | Test Loss: 0.1198 | Train Error: 0.0142 | Test Error: 0.0276\n",
            "Epoch: 011 | Train Loss: 0.05875 | Test Loss: 0.1061 | Train Error: 0.01392 | Test Error: 0.0246\n",
            "Epoch: 012 | Train Loss: 0.05129 | Test Loss: 0.1312 | Train Error: 0.01173 | Test Error: 0.0279\n",
            "Epoch: 013 | Train Loss: 0.05041 | Test Loss: 0.1096 | Train Error: 0.01285 | Test Error: 0.0243\n",
            "Epoch: 014 | Train Loss: 0.04322 | Test Loss: 0.1268 | Train Error: 0.01062 | Test Error: 0.0256\n",
            "Epoch: 015 | Train Loss: 0.04195 | Test Loss: 0.138 | Train Error: 0.01032 | Test Error: 0.0248\n",
            "Epoch: 016 | Train Loss: 0.03915 | Test Loss: 0.1207 | Train Error: 0.009233 | Test Error: 0.0225\n",
            "Epoch: 017 | Train Loss: 0.03622 | Test Loss: 0.115 | Train Error: 0.009117 | Test Error: 0.0219\n",
            "Epoch: 018 | Train Loss: 0.03618 | Test Loss: 0.1306 | Train Error: 0.0088 | Test Error: 0.0242\n",
            "Epoch: 019 | Train Loss: 0.03143 | Test Loss: 0.1555 | Train Error: 0.0073 | Test Error: 0.0224\n",
            "Epoch: 020 | Train Loss: 0.03239 | Test Loss: 0.1268 | Train Error: 0.00745 | Test Error: 0.022\n",
            "Epoch: 021 | Train Loss: 0.02761 | Test Loss: 0.1752 | Train Error: 0.006433 | Test Error: 0.0312\n",
            "Epoch: 022 | Train Loss: 0.02627 | Test Loss: 0.1245 | Train Error: 0.00635 | Test Error: 0.0234\n",
            "Epoch: 023 | Train Loss: 0.02792 | Test Loss: 0.136 | Train Error: 0.00655 | Test Error: 0.023\n",
            "Epoch: 024 | Train Loss: 0.02698 | Test Loss: 0.1612 | Train Error: 0.006317 | Test Error: 0.0231\n",
            "Epoch: 025 | Train Loss: 0.02798 | Test Loss: 0.1258 | Train Error: 0.006017 | Test Error: 0.0225\n",
            "Epoch: 026 | Train Loss: 0.02382 | Test Loss: 0.1472 | Train Error: 0.005783 | Test Error: 0.0223\n",
            "Epoch: 027 | Train Loss: 0.02267 | Test Loss: 0.1228 | Train Error: 0.005283 | Test Error: 0.0208\n",
            "Epoch: 028 | Train Loss: 0.02434 | Test Loss: 0.118 | Train Error: 0.00545 | Test Error: 0.0208\n",
            "Epoch: 029 | Train Loss: 0.02343 | Test Loss: 0.1308 | Train Error: 0.005033 | Test Error: 0.0205\n",
            "Epoch: 030 | Train Loss: 0.01882 | Test Loss: 0.1578 | Train Error: 0.004583 | Test Error: 0.0195\n"
          ]
        }
      ],
      "source": [
        "depths = [1, 5, 10] # Varying hyperparameter\n",
        "width = 256 # As in the guidelines\n",
        "lr = 0.001 # User-defined\n",
        "epochs = 30 # User-defined (seems to converge for most)\n",
        "batch_size = 32 # User-defined\n",
        "dim = 784\n",
        "nclass = 10\n",
        "Adam = True\n",
        "\n",
        "# Store the results\n",
        "store_depth = {}\n",
        "\n",
        "# Run the main function for different depths\n",
        "for depth in depths:\n",
        "    print(f\"Depth: {depth}\")\n",
        "    train_loss, test_loss, train_error, test_error = main(batch_size, dim, nclass, width, depth, lr, epochs, train_set_mnist, test_set_mnist, Adam=Adam)\n",
        "    store_depth[depth] = [train_loss, test_loss, train_error, test_error]"
      ]
    },
    {
      "cell_type": "code",
      "execution_count": 10,
      "metadata": {
        "colab": {
          "base_uri": "https://localhost:8080/",
          "height": 143
        },
        "id": "3YQgw9wej5fh",
        "outputId": "d732f5b3-d622-47b8-8d44-797d5c04ac69"
      },
      "outputs": [
        {
          "data": {
            "text/html": [
              "<div>\n",
              "<style scoped>\n",
              "    .dataframe tbody tr th:only-of-type {\n",
              "        vertical-align: middle;\n",
              "    }\n",
              "\n",
              "    .dataframe tbody tr th {\n",
              "        vertical-align: top;\n",
              "    }\n",
              "\n",
              "    .dataframe thead th {\n",
              "        text-align: right;\n",
              "    }\n",
              "</style>\n",
              "<table border=\"1\" class=\"dataframe\">\n",
              "  <thead>\n",
              "    <tr style=\"text-align: right;\">\n",
              "      <th></th>\n",
              "      <th>Depth</th>\n",
              "      <th>Train loss</th>\n",
              "      <th>Test loss</th>\n",
              "    </tr>\n",
              "  </thead>\n",
              "  <tbody>\n",
              "    <tr>\n",
              "      <th>0</th>\n",
              "      <td>1</td>\n",
              "      <td>0.003031</td>\n",
              "      <td>0.133601</td>\n",
              "    </tr>\n",
              "    <tr>\n",
              "      <th>1</th>\n",
              "      <td>5</td>\n",
              "      <td>0.012148</td>\n",
              "      <td>0.160358</td>\n",
              "    </tr>\n",
              "    <tr>\n",
              "      <th>2</th>\n",
              "      <td>10</td>\n",
              "      <td>0.018818</td>\n",
              "      <td>0.15782</td>\n",
              "    </tr>\n",
              "  </tbody>\n",
              "</table>\n",
              "</div>"
            ],
            "text/plain": [
              "  Depth Train loss Test loss\n",
              "0     1   0.003031  0.133601\n",
              "1     5   0.012148  0.160358\n",
              "2    10   0.018818   0.15782"
            ]
          },
          "execution_count": 10,
          "metadata": {},
          "output_type": "execute_result"
        }
      ],
      "source": [
        "\n",
        "# Construct pandas table of different train loss and test loss for different depths\n",
        "df = pd.DataFrame(columns=[\"Depth\", \"Train loss\", \"Test loss\"])\n",
        "for depth in depths:\n",
        "    df = pd.concat([df, pd.DataFrame([[depth, store_depth[depth][0][-1], store_depth[depth][1][-1]]], columns=[\"Depth\", \"Train loss\", \"Test loss\"])])\n",
        "df.reset_index(drop=True, inplace=True)\n",
        "df"
      ]
    },
    {
      "cell_type": "code",
      "execution_count": 11,
      "metadata": {
        "colab": {
          "base_uri": "https://localhost:8080/",
          "height": 369
        },
        "id": "Dbuw_nBOj5fh",
        "outputId": "9fd20865-934e-4229-d37a-a545c7eda8c4"
      },
      "outputs": [
        {
          "data": {
            "image/png": "[encoded data removed]",
            "text/plain": [
              "<Figure size 1440x432 with 2 Axes>"
            ]
          },
          "metadata": {
            "needs_background": "light"
          },
          "output_type": "display_data"
        }
      ],
      "source": [
        "# Plot the train loss for different depths and test loss for different depths as subplots\n",
        "fig, ax = plt.subplots(1, 2, figsize=(20, 6))\n",
        "for depth in depths:\n",
        "    ax[0].plot(store_depth[depth][0], label=f\"Depth: {depth}\")\n",
        "    ax[1].plot(store_depth[depth][1], label=f\"Depth: {depth}\")\n",
        "ax[0].set_xlabel(\"Epochs\")\n",
        "ax[0].set_ylabel(\"Train loss\")\n",
        "ax[0].legend()\n",
        "ax[0].title.set_text(\"Train loss for different depths\")\n",
        "ax[1].set_xlabel(\"Epochs\")\n",
        "ax[1].set_ylabel(\"Test loss\")\n",
        "ax[1].legend()\n",
        "ax[1].title.set_text(\"Test loss for different depths\")\n",
        "plt.show()"
      ]
    },
    {
      "cell_type": "markdown",
      "metadata": {
        "id": "enJZ43CkkzNx"
      },
      "source": [
        "\n",
        "In the left graph, the training loss for all models is observed to be decreasing, indicating that each model is converging. However, the convergence rate varies among the models; notably, the neural network with a depth of 1 converges more rapidly than that with a depth of 10.\n",
        "\n",
        "On the right graph, in a similar vein, the test loss for all three neural networks diminishes as the number of epochs increases, with some variance and potentially overfitting after 10 epochs as the test loss begins to increase. Yet, the neural network with a depth of 1 exhibits a lower test loss compared to those with depths of 5 and 10, suggesting it is the most effective model among those tested. It might be hypothesized that the neural network with a depth of 10 overfits the training data due to overparameterization, which would account for its higher test loss compared to the model with a depth of 1. However, this hypothesis does not hold in this instance, as the training loss for the neural network with a depth of 10 is actually higher than that for the neural network with a depth of 1, suggesting that its primary challenge is achieving optimal convergence in a more complex loss landscape.\n",
        "\n",
        "Upon fine-tuning the parameters to enable convergence across various network depths, intriguing findings emerge. The plots reveal that training becomes increasingly challenging with network depth; deeper networks exhibit slower convergence rates, necessitating more epochs to achieve convergence. This observation aligns with theoretical expectations, as deeper models navigate more complex loss landscapes, making optimization more difficult. Deep neural networks are more susceptible to getting trapped in local minima and may encounter issues with vanishing or exploding gradients, leading to slow or erratic training. In contrast, shallower networks, with fewer layers and parameters, tend to be simpler to train.\n",
        "\n",
        "Additionally, the test loss plot indicates that deeper neural networks incur higher test losses. This can be attributed to the increased capacity of deeper networks to overfit the training data, as their larger number of parameters allows them to more precisely model the training set but also makes them more prone to adapting to noise. Conversely, shallower networks, with their reduced parameter count, are less likely to overfit. However, the observed discrepancy in test losses might also reflect the deeper networks' struggle with optimal convergence due to the intricate loss landscape. It's conceivable that extending the training duration for the deeper network could potentially lower its test loss relative to the neural network with a depth of 1."
      ]
    },
    {
      "cell_type": "code",
      "execution_count": 12,
      "metadata": {
        "colab": {
          "base_uri": "https://localhost:8080/"
        },
        "id": "xysThVCD31c7",
        "outputId": "60af66bb-1394-43f7-df2d-44d2684d041b"
      },
      "outputs": [
        {
          "name": "stdout",
          "output_type": "stream",
          "text": [
            "Width: 4\n"
          ]
        },
        {
          "name": "stdout",
          "output_type": "stream",
          "text": [
            "Epoch: 001 | Train Loss: 1.067 | Test Loss: 0.7005 | Train Error: 0.3419 | Test Error: 0.2108\n",
            "Epoch: 002 | Train Loss: 0.6517 | Test Loss: 0.5934 | Train Error: 0.1941 | Test Error: 0.1751\n",
            "Epoch: 003 | Train Loss: 0.5739 | Test Loss: 0.546 | Train Error: 0.1687 | Test Error: 0.1614\n",
            "Epoch: 004 | Train Loss: 0.5298 | Test Loss: 0.5069 | Train Error: 0.1532 | Test Error: 0.1463\n",
            "Epoch: 005 | Train Loss: 0.4999 | Test Loss: 0.489 | Train Error: 0.1438 | Test Error: 0.141\n",
            "Epoch: 006 | Train Loss: 0.4812 | Test Loss: 0.4763 | Train Error: 0.1381 | Test Error: 0.1378\n",
            "Epoch: 007 | Train Loss: 0.4679 | Test Loss: 0.4649 | Train Error: 0.1343 | Test Error: 0.1312\n",
            "Epoch: 008 | Train Loss: 0.4582 | Test Loss: 0.4604 | Train Error: 0.1303 | Test Error: 0.1318\n",
            "Epoch: 009 | Train Loss: 0.451 | Test Loss: 0.4617 | Train Error: 0.1283 | Test Error: 0.1341\n",
            "Epoch: 010 | Train Loss: 0.4454 | Test Loss: 0.4522 | Train Error: 0.1269 | Test Error: 0.1292\n",
            "Epoch: 011 | Train Loss: 0.4406 | Test Loss: 0.4548 | Train Error: 0.1253 | Test Error: 0.1304\n",
            "Epoch: 012 | Train Loss: 0.4374 | Test Loss: 0.4498 | Train Error: 0.1251 | Test Error: 0.1271\n",
            "Epoch: 013 | Train Loss: 0.4341 | Test Loss: 0.4502 | Train Error: 0.1234 | Test Error: 0.1252\n",
            "Epoch: 014 | Train Loss: 0.4323 | Test Loss: 0.4517 | Train Error: 0.1233 | Test Error: 0.1284\n",
            "Epoch: 015 | Train Loss: 0.4294 | Test Loss: 0.4468 | Train Error: 0.1223 | Test Error: 0.1278\n",
            "Epoch: 016 | Train Loss: 0.4286 | Test Loss: 0.4505 | Train Error: 0.122 | Test Error: 0.129\n",
            "Epoch: 017 | Train Loss: 0.426 | Test Loss: 0.4444 | Train Error: 0.1217 | Test Error: 0.1281\n",
            "Epoch: 018 | Train Loss: 0.4247 | Test Loss: 0.4445 | Train Error: 0.1215 | Test Error: 0.1264\n",
            "Epoch: 019 | Train Loss: 0.4229 | Test Loss: 0.4454 | Train Error: 0.1207 | Test Error: 0.1259\n",
            "Epoch: 020 | Train Loss: 0.4215 | Test Loss: 0.4419 | Train Error: 0.1204 | Test Error: 0.1229\n",
            "Epoch: 021 | Train Loss: 0.4201 | Test Loss: 0.4445 | Train Error: 0.1197 | Test Error: 0.1245\n",
            "Epoch: 022 | Train Loss: 0.4189 | Test Loss: 0.445 | Train Error: 0.119 | Test Error: 0.125\n",
            "Epoch: 023 | Train Loss: 0.4182 | Test Loss: 0.4394 | Train Error: 0.1193 | Test Error: 0.124\n",
            "Epoch: 024 | Train Loss: 0.4167 | Test Loss: 0.4401 | Train Error: 0.1186 | Test Error: 0.125\n",
            "Epoch: 025 | Train Loss: 0.416 | Test Loss: 0.4415 | Train Error: 0.1192 | Test Error: 0.1246\n",
            "Epoch: 026 | Train Loss: 0.4146 | Test Loss: 0.4441 | Train Error: 0.1179 | Test Error: 0.1249\n",
            "Epoch: 027 | Train Loss: 0.4133 | Test Loss: 0.4412 | Train Error: 0.118 | Test Error: 0.1258\n",
            "Epoch: 028 | Train Loss: 0.4129 | Test Loss: 0.4404 | Train Error: 0.1182 | Test Error: 0.1211\n",
            "Epoch: 029 | Train Loss: 0.4118 | Test Loss: 0.4373 | Train Error: 0.1183 | Test Error: 0.1206\n",
            "Epoch: 030 | Train Loss: 0.4117 | Test Loss: 0.4385 | Train Error: 0.1176 | Test Error: 0.1212\n",
            "Width: 8\n",
            "Epoch: 001 | Train Loss: 0.5707 | Test Loss: 0.3326 | Train Error: 0.1633 | Test Error: 0.0959\n",
            "Epoch: 002 | Train Loss: 0.3221 | Test Loss: 0.2968 | Train Error: 0.0921 | Test Error: 0.0839\n",
            "Epoch: 003 | Train Loss: 0.295 | Test Loss: 0.2812 | Train Error: 0.08252 | Test Error: 0.0795\n",
            "Epoch: 004 | Train Loss: 0.2801 | Test Loss: 0.2704 | Train Error: 0.07833 | Test Error: 0.0774\n",
            "Epoch: 005 | Train Loss: 0.2702 | Test Loss: 0.2603 | Train Error: 0.07588 | Test Error: 0.0718\n",
            "Epoch: 006 | Train Loss: 0.2634 | Test Loss: 0.2631 | Train Error: 0.07398 | Test Error: 0.0735\n",
            "Epoch: 007 | Train Loss: 0.2583 | Test Loss: 0.2591 | Train Error: 0.0731 | Test Error: 0.0732\n",
            "Epoch: 008 | Train Loss: 0.2539 | Test Loss: 0.2537 | Train Error: 0.0725 | Test Error: 0.0714\n",
            "Epoch: 009 | Train Loss: 0.2499 | Test Loss: 0.2548 | Train Error: 0.07165 | Test Error: 0.0744\n",
            "Epoch: 010 | Train Loss: 0.2466 | Test Loss: 0.2531 | Train Error: 0.06997 | Test Error: 0.0697\n",
            "Epoch: 011 | Train Loss: 0.2443 | Test Loss: 0.2595 | Train Error: 0.06942 | Test Error: 0.0742\n",
            "Epoch: 012 | Train Loss: 0.242 | Test Loss: 0.2531 | Train Error: 0.06912 | Test Error: 0.0681\n",
            "Epoch: 013 | Train Loss: 0.24 | Test Loss: 0.2518 | Train Error: 0.06822 | Test Error: 0.0727\n",
            "Epoch: 014 | Train Loss: 0.238 | Test Loss: 0.2629 | Train Error: 0.06813 | Test Error: 0.0748\n",
            "Epoch: 015 | Train Loss: 0.2359 | Test Loss: 0.2512 | Train Error: 0.06753 | Test Error: 0.0697\n",
            "Epoch: 016 | Train Loss: 0.2337 | Test Loss: 0.2534 | Train Error: 0.0665 | Test Error: 0.0708\n",
            "Epoch: 017 | Train Loss: 0.2319 | Test Loss: 0.2517 | Train Error: 0.06568 | Test Error: 0.0708\n",
            "Epoch: 018 | Train Loss: 0.2307 | Test Loss: 0.2503 | Train Error: 0.06585 | Test Error: 0.0717\n",
            "Epoch: 019 | Train Loss: 0.2291 | Test Loss: 0.2515 | Train Error: 0.06583 | Test Error: 0.0733\n",
            "Epoch: 020 | Train Loss: 0.2267 | Test Loss: 0.2569 | Train Error: 0.06452 | Test Error: 0.0736\n",
            "Epoch: 021 | Train Loss: 0.2258 | Test Loss: 0.2599 | Train Error: 0.06467 | Test Error: 0.0752\n",
            "Epoch: 022 | Train Loss: 0.2237 | Test Loss: 0.2536 | Train Error: 0.06448 | Test Error: 0.0718\n",
            "Epoch: 023 | Train Loss: 0.2221 | Test Loss: 0.2468 | Train Error: 0.06388 | Test Error: 0.072\n",
            "Epoch: 024 | Train Loss: 0.2204 | Test Loss: 0.251 | Train Error: 0.06302 | Test Error: 0.0689\n",
            "Epoch: 025 | Train Loss: 0.2194 | Test Loss: 0.2469 | Train Error: 0.06332 | Test Error: 0.0713\n",
            "Epoch: 026 | Train Loss: 0.2182 | Test Loss: 0.25 | Train Error: 0.06347 | Test Error: 0.0759\n",
            "Epoch: 027 | Train Loss: 0.2162 | Test Loss: 0.2473 | Train Error: 0.06213 | Test Error: 0.068\n",
            "Epoch: 028 | Train Loss: 0.2143 | Test Loss: 0.2431 | Train Error: 0.06218 | Test Error: 0.07\n",
            "Epoch: 029 | Train Loss: 0.2132 | Test Loss: 0.2397 | Train Error: 0.0615 | Test Error: 0.0686\n",
            "Epoch: 030 | Train Loss: 0.2109 | Test Loss: 0.2433 | Train Error: 0.06093 | Test Error: 0.0693\n",
            "Width: 16\n",
            "Epoch: 001 | Train Loss: 0.4545 | Test Loss: 0.274 | Train Error: 0.1208 | Test Error: 0.0787\n",
            "Epoch: 002 | Train Loss: 0.267 | Test Loss: 0.2367 | Train Error: 0.0773 | Test Error: 0.0675\n",
            "Epoch: 003 | Train Loss: 0.2301 | Test Loss: 0.2138 | Train Error: 0.06562 | Test Error: 0.0635\n",
            "Epoch: 004 | Train Loss: 0.2064 | Test Loss: 0.2022 | Train Error: 0.05952 | Test Error: 0.06\n",
            "Epoch: 005 | Train Loss: 0.1886 | Test Loss: 0.1899 | Train Error: 0.05373 | Test Error: 0.0557\n",
            "Epoch: 006 | Train Loss: 0.1761 | Test Loss: 0.1753 | Train Error: 0.05008 | Test Error: 0.0515\n",
            "Epoch: 007 | Train Loss: 0.1648 | Test Loss: 0.1753 | Train Error: 0.04847 | Test Error: 0.0507\n",
            "Epoch: 008 | Train Loss: 0.1569 | Test Loss: 0.1677 | Train Error: 0.04607 | Test Error: 0.0485\n",
            "Epoch: 009 | Train Loss: 0.1488 | Test Loss: 0.167 | Train Error: 0.0435 | Test Error: 0.0481\n",
            "Epoch: 010 | Train Loss: 0.1431 | Test Loss: 0.1624 | Train Error: 0.04185 | Test Error: 0.0472\n",
            "Epoch: 011 | Train Loss: 0.1382 | Test Loss: 0.1617 | Train Error: 0.04033 | Test Error: 0.0464\n",
            "Epoch: 012 | Train Loss: 0.1326 | Test Loss: 0.1591 | Train Error: 0.03932 | Test Error: 0.0457\n",
            "Epoch: 013 | Train Loss: 0.1288 | Test Loss: 0.1608 | Train Error: 0.038 | Test Error: 0.0435\n",
            "Epoch: 014 | Train Loss: 0.1251 | Test Loss: 0.1686 | Train Error: 0.03662 | Test Error: 0.0477\n",
            "Epoch: 015 | Train Loss: 0.1214 | Test Loss: 0.1579 | Train Error: 0.03572 | Test Error: 0.0444\n",
            "Epoch: 016 | Train Loss: 0.1191 | Test Loss: 0.1577 | Train Error: 0.03527 | Test Error: 0.0432\n",
            "Epoch: 017 | Train Loss: 0.1156 | Test Loss: 0.1556 | Train Error: 0.03408 | Test Error: 0.0424\n",
            "Epoch: 018 | Train Loss: 0.1132 | Test Loss: 0.1623 | Train Error: 0.03305 | Test Error: 0.043\n",
            "Epoch: 019 | Train Loss: 0.1104 | Test Loss: 0.1579 | Train Error: 0.03293 | Test Error: 0.0435\n",
            "Epoch: 020 | Train Loss: 0.1093 | Test Loss: 0.1571 | Train Error: 0.03293 | Test Error: 0.0429\n",
            "Epoch: 021 | Train Loss: 0.1071 | Test Loss: 0.1734 | Train Error: 0.03158 | Test Error: 0.0485\n",
            "Epoch: 022 | Train Loss: 0.1053 | Test Loss: 0.1561 | Train Error: 0.0313 | Test Error: 0.0425\n",
            "Epoch: 023 | Train Loss: 0.104 | Test Loss: 0.1613 | Train Error: 0.03113 | Test Error: 0.0439\n",
            "Epoch: 024 | Train Loss: 0.1024 | Test Loss: 0.1656 | Train Error: 0.03087 | Test Error: 0.0452\n",
            "Epoch: 025 | Train Loss: 0.1007 | Test Loss: 0.1612 | Train Error: 0.03003 | Test Error: 0.0433\n",
            "Epoch: 026 | Train Loss: 0.09854 | Test Loss: 0.1637 | Train Error: 0.0299 | Test Error: 0.0432\n",
            "Epoch: 027 | Train Loss: 0.09814 | Test Loss: 0.1687 | Train Error: 0.02943 | Test Error: 0.0435\n",
            "Epoch: 028 | Train Loss: 0.09618 | Test Loss: 0.1637 | Train Error: 0.02892 | Test Error: 0.0439\n",
            "Epoch: 029 | Train Loss: 0.09485 | Test Loss: 0.1668 | Train Error: 0.02888 | Test Error: 0.0423\n",
            "Epoch: 030 | Train Loss: 0.09413 | Test Loss: 0.1692 | Train Error: 0.02877 | Test Error: 0.0447\n",
            "Width: 32\n",
            "Epoch: 001 | Train Loss: 0.3893 | Test Loss: 0.2369 | Train Error: 0.1045 | Test Error: 0.07\n",
            "Epoch: 002 | Train Loss: 0.2076 | Test Loss: 0.1748 | Train Error: 0.05945 | Test Error: 0.0515\n",
            "Epoch: 003 | Train Loss: 0.1606 | Test Loss: 0.1539 | Train Error: 0.04708 | Test Error: 0.0464\n",
            "Epoch: 004 | Train Loss: 0.1332 | Test Loss: 0.1349 | Train Error: 0.03902 | Test Error: 0.0416\n",
            "Epoch: 005 | Train Loss: 0.1161 | Test Loss: 0.1263 | Train Error: 0.0337 | Test Error: 0.0393\n",
            "Epoch: 006 | Train Loss: 0.103 | Test Loss: 0.1284 | Train Error: 0.03113 | Test Error: 0.0385\n",
            "Epoch: 007 | Train Loss: 0.0931 | Test Loss: 0.1128 | Train Error: 0.02867 | Test Error: 0.0337\n",
            "Epoch: 008 | Train Loss: 0.08588 | Test Loss: 0.1124 | Train Error: 0.02538 | Test Error: 0.0332\n",
            "Epoch: 009 | Train Loss: 0.0786 | Test Loss: 0.109 | Train Error: 0.02423 | Test Error: 0.0327\n",
            "Epoch: 010 | Train Loss: 0.07297 | Test Loss: 0.1048 | Train Error: 0.02208 | Test Error: 0.0295\n",
            "Epoch: 011 | Train Loss: 0.06759 | Test Loss: 0.1072 | Train Error: 0.02003 | Test Error: 0.0314\n",
            "Epoch: 012 | Train Loss: 0.06355 | Test Loss: 0.1112 | Train Error: 0.01992 | Test Error: 0.0304\n",
            "Epoch: 013 | Train Loss: 0.05956 | Test Loss: 0.1173 | Train Error: 0.01828 | Test Error: 0.033\n",
            "Epoch: 014 | Train Loss: 0.05575 | Test Loss: 0.1138 | Train Error: 0.01678 | Test Error: 0.0324\n",
            "Epoch: 015 | Train Loss: 0.0517 | Test Loss: 0.1179 | Train Error: 0.01585 | Test Error: 0.0338\n",
            "Epoch: 016 | Train Loss: 0.04901 | Test Loss: 0.1132 | Train Error: 0.01562 | Test Error: 0.0316\n",
            "Epoch: 017 | Train Loss: 0.04714 | Test Loss: 0.1181 | Train Error: 0.0146 | Test Error: 0.03\n",
            "Epoch: 018 | Train Loss: 0.04361 | Test Loss: 0.1127 | Train Error: 0.01387 | Test Error: 0.0291\n",
            "Epoch: 019 | Train Loss: 0.04107 | Test Loss: 0.1192 | Train Error: 0.01278 | Test Error: 0.0315\n",
            "Epoch: 020 | Train Loss: 0.03898 | Test Loss: 0.1196 | Train Error: 0.01193 | Test Error: 0.0311\n",
            "Epoch: 021 | Train Loss: 0.03654 | Test Loss: 0.1288 | Train Error: 0.01178 | Test Error: 0.0321\n",
            "Epoch: 022 | Train Loss: 0.03532 | Test Loss: 0.1262 | Train Error: 0.01133 | Test Error: 0.0327\n",
            "Epoch: 023 | Train Loss: 0.03343 | Test Loss: 0.1289 | Train Error: 0.01015 | Test Error: 0.0329\n",
            "Epoch: 024 | Train Loss: 0.03111 | Test Loss: 0.1322 | Train Error: 0.0097 | Test Error: 0.0321\n",
            "Epoch: 025 | Train Loss: 0.02951 | Test Loss: 0.133 | Train Error: 0.009133 | Test Error: 0.0302\n",
            "Epoch: 026 | Train Loss: 0.02874 | Test Loss: 0.1304 | Train Error: 0.009167 | Test Error: 0.0323\n",
            "Epoch: 027 | Train Loss: 0.02711 | Test Loss: 0.1366 | Train Error: 0.008517 | Test Error: 0.0314\n",
            "Epoch: 028 | Train Loss: 0.02531 | Test Loss: 0.1363 | Train Error: 0.007517 | Test Error: 0.031\n",
            "Epoch: 029 | Train Loss: 0.02458 | Test Loss: 0.1415 | Train Error: 0.007567 | Test Error: 0.0324\n",
            "Epoch: 030 | Train Loss: 0.02307 | Test Loss: 0.1508 | Train Error: 0.0072 | Test Error: 0.0345\n",
            "Width: 64\n",
            "Epoch: 001 | Train Loss: 0.3383 | Test Loss: 0.1928 | Train Error: 0.09368 | Test Error: 0.058\n",
            "Epoch: 002 | Train Loss: 0.1659 | Test Loss: 0.1401 | Train Error: 0.0484 | Test Error: 0.0432\n",
            "Epoch: 003 | Train Loss: 0.1185 | Test Loss: 0.1163 | Train Error: 0.03518 | Test Error: 0.0345\n",
            "Epoch: 004 | Train Loss: 0.09299 | Test Loss: 0.09821 | Train Error: 0.02707 | Test Error: 0.0297\n",
            "Epoch: 005 | Train Loss: 0.07528 | Test Loss: 0.09323 | Train Error: 0.02227 | Test Error: 0.0291\n",
            "Epoch: 006 | Train Loss: 0.06281 | Test Loss: 0.08533 | Train Error: 0.01887 | Test Error: 0.0253\n",
            "Epoch: 007 | Train Loss: 0.05298 | Test Loss: 0.0856 | Train Error: 0.01595 | Test Error: 0.0261\n",
            "Epoch: 008 | Train Loss: 0.04605 | Test Loss: 0.08534 | Train Error: 0.01447 | Test Error: 0.0252\n",
            "Epoch: 009 | Train Loss: 0.03949 | Test Loss: 0.08293 | Train Error: 0.01252 | Test Error: 0.024\n",
            "Epoch: 010 | Train Loss: 0.03431 | Test Loss: 0.08327 | Train Error: 0.01088 | Test Error: 0.0239\n",
            "Epoch: 011 | Train Loss: 0.02986 | Test Loss: 0.09118 | Train Error: 0.009133 | Test Error: 0.0258\n",
            "Epoch: 012 | Train Loss: 0.02667 | Test Loss: 0.09269 | Train Error: 0.008317 | Test Error: 0.026\n",
            "Epoch: 013 | Train Loss: 0.0227 | Test Loss: 0.08689 | Train Error: 0.006883 | Test Error: 0.0241\n",
            "Epoch: 014 | Train Loss: 0.02079 | Test Loss: 0.09139 | Train Error: 0.006283 | Test Error: 0.0235\n",
            "Epoch: 015 | Train Loss: 0.01891 | Test Loss: 0.09076 | Train Error: 0.005917 | Test Error: 0.0234\n",
            "Epoch: 016 | Train Loss: 0.01591 | Test Loss: 0.09866 | Train Error: 0.004733 | Test Error: 0.0245\n",
            "Epoch: 017 | Train Loss: 0.01386 | Test Loss: 0.1001 | Train Error: 0.004117 | Test Error: 0.0239\n",
            "Epoch: 018 | Train Loss: 0.01365 | Test Loss: 0.1037 | Train Error: 0.0043 | Test Error: 0.0251\n",
            "Epoch: 019 | Train Loss: 0.01152 | Test Loss: 0.1079 | Train Error: 0.003417 | Test Error: 0.0252\n",
            "Epoch: 020 | Train Loss: 0.01063 | Test Loss: 0.1098 | Train Error: 0.002983 | Test Error: 0.0251\n",
            "Epoch: 021 | Train Loss: 0.01005 | Test Loss: 0.1092 | Train Error: 0.00295 | Test Error: 0.0246\n",
            "Epoch: 022 | Train Loss: 0.008389 | Test Loss: 0.1251 | Train Error: 0.0024 | Test Error: 0.0261\n",
            "Epoch: 023 | Train Loss: 0.00863 | Test Loss: 0.1209 | Train Error: 0.002667 | Test Error: 0.026\n",
            "Epoch: 024 | Train Loss: 0.00753 | Test Loss: 0.1129 | Train Error: 0.002117 | Test Error: 0.0239\n",
            "Epoch: 025 | Train Loss: 0.0074 | Test Loss: 0.1264 | Train Error: 0.00225 | Test Error: 0.0262\n",
            "Epoch: 026 | Train Loss: 0.006807 | Test Loss: 0.1247 | Train Error: 0.002117 | Test Error: 0.0263\n",
            "Epoch: 027 | Train Loss: 0.005799 | Test Loss: 0.1233 | Train Error: 0.001667 | Test Error: 0.0254\n",
            "Epoch: 028 | Train Loss: 0.006502 | Test Loss: 0.1363 | Train Error: 0.0018 | Test Error: 0.0273\n",
            "Epoch: 029 | Train Loss: 0.005235 | Test Loss: 0.133 | Train Error: 0.001483 | Test Error: 0.027\n",
            "Epoch: 030 | Train Loss: 0.005859 | Test Loss: 0.142 | Train Error: 0.001733 | Test Error: 0.0283\n",
            "Width: 128\n",
            "Epoch: 001 | Train Loss: 0.2895 | Test Loss: 0.1536 | Train Error: 0.08062 | Test Error: 0.0454\n",
            "Epoch: 002 | Train Loss: 0.1258 | Test Loss: 0.1016 | Train Error: 0.03675 | Test Error: 0.0314\n",
            "Epoch: 003 | Train Loss: 0.0858 | Test Loss: 0.09373 | Train Error: 0.02567 | Test Error: 0.0281\n",
            "Epoch: 004 | Train Loss: 0.06316 | Test Loss: 0.07511 | Train Error: 0.01945 | Test Error: 0.0236\n",
            "Epoch: 005 | Train Loss: 0.04979 | Test Loss: 0.07831 | Train Error: 0.0153 | Test Error: 0.0252\n",
            "Epoch: 006 | Train Loss: 0.03877 | Test Loss: 0.07481 | Train Error: 0.0122 | Test Error: 0.0243\n",
            "Epoch: 007 | Train Loss: 0.0311 | Test Loss: 0.07846 | Train Error: 0.009967 | Test Error: 0.0247\n",
            "Epoch: 008 | Train Loss: 0.02467 | Test Loss: 0.07376 | Train Error: 0.007683 | Test Error: 0.0204\n",
            "Epoch: 009 | Train Loss: 0.01959 | Test Loss: 0.077 | Train Error: 0.005883 | Test Error: 0.0228\n",
            "Epoch: 010 | Train Loss: 0.01756 | Test Loss: 0.0941 | Train Error: 0.005533 | Test Error: 0.0263\n",
            "Epoch: 011 | Train Loss: 0.01434 | Test Loss: 0.08344 | Train Error: 0.004417 | Test Error: 0.0219\n",
            "Epoch: 012 | Train Loss: 0.01207 | Test Loss: 0.08041 | Train Error: 0.003517 | Test Error: 0.0211\n",
            "Epoch: 013 | Train Loss: 0.00984 | Test Loss: 0.08165 | Train Error: 0.002867 | Test Error: 0.0201\n",
            "Epoch: 014 | Train Loss: 0.008462 | Test Loss: 0.09113 | Train Error: 0.002433 | Test Error: 0.0218\n",
            "Epoch: 015 | Train Loss: 0.008367 | Test Loss: 0.1206 | Train Error: 0.002767 | Test Error: 0.0263\n",
            "Epoch: 016 | Train Loss: 0.007361 | Test Loss: 0.1002 | Train Error: 0.002233 | Test Error: 0.0226\n",
            "Epoch: 017 | Train Loss: 0.005999 | Test Loss: 0.1086 | Train Error: 0.0018 | Test Error: 0.0243\n",
            "Epoch: 018 | Train Loss: 0.006924 | Test Loss: 0.09673 | Train Error: 0.002217 | Test Error: 0.0211\n",
            "Epoch: 019 | Train Loss: 0.005055 | Test Loss: 0.1128 | Train Error: 0.001467 | Test Error: 0.0239\n",
            "Epoch: 020 | Train Loss: 0.005918 | Test Loss: 0.1067 | Train Error: 0.001817 | Test Error: 0.0211\n",
            "Epoch: 021 | Train Loss: 0.003723 | Test Loss: 0.1119 | Train Error: 0.0009833 | Test Error: 0.0221\n",
            "Epoch: 022 | Train Loss: 0.006455 | Test Loss: 0.1024 | Train Error: 0.00205 | Test Error: 0.0212\n",
            "Epoch: 023 | Train Loss: 0.003672 | Test Loss: 0.09756 | Train Error: 0.0009667 | Test Error: 0.0191\n",
            "Epoch: 024 | Train Loss: 0.004154 | Test Loss: 0.1092 | Train Error: 0.0012 | Test Error: 0.0214\n",
            "Epoch: 025 | Train Loss: 0.00425 | Test Loss: 0.1141 | Train Error: 0.00125 | Test Error: 0.0203\n",
            "Epoch: 026 | Train Loss: 0.004844 | Test Loss: 0.1224 | Train Error: 0.001583 | Test Error: 0.0217\n",
            "Epoch: 027 | Train Loss: 0.002845 | Test Loss: 0.1362 | Train Error: 0.0009 | Test Error: 0.0246\n",
            "Epoch: 028 | Train Loss: 0.004016 | Test Loss: 0.126 | Train Error: 0.001433 | Test Error: 0.0218\n",
            "Epoch: 029 | Train Loss: 0.004767 | Test Loss: 0.1154 | Train Error: 0.001783 | Test Error: 0.0208\n",
            "Epoch: 030 | Train Loss: 0.002702 | Test Loss: 0.1326 | Train Error: 0.0007167 | Test Error: 0.0218\n",
            "Width: 256\n",
            "Epoch: 001 | Train Loss: 0.2521 | Test Loss: 0.1314 | Train Error: 0.07162 | Test Error: 0.0392\n",
            "Epoch: 002 | Train Loss: 0.1033 | Test Loss: 0.09405 | Train Error: 0.03082 | Test Error: 0.029\n",
            "Epoch: 003 | Train Loss: 0.06988 | Test Loss: 0.07141 | Train Error: 0.02127 | Test Error: 0.0225\n",
            "Epoch: 004 | Train Loss: 0.04885 | Test Loss: 0.06973 | Train Error: 0.01515 | Test Error: 0.0226\n",
            "Epoch: 005 | Train Loss: 0.03691 | Test Loss: 0.07653 | Train Error: 0.01233 | Test Error: 0.0241\n",
            "Epoch: 006 | Train Loss: 0.02807 | Test Loss: 0.0702 | Train Error: 0.00905 | Test Error: 0.0206\n",
            "Epoch: 007 | Train Loss: 0.02081 | Test Loss: 0.07424 | Train Error: 0.00675 | Test Error: 0.0212\n",
            "Epoch: 008 | Train Loss: 0.01691 | Test Loss: 0.07138 | Train Error: 0.005433 | Test Error: 0.0183\n",
            "Epoch: 009 | Train Loss: 0.01438 | Test Loss: 0.06892 | Train Error: 0.004583 | Test Error: 0.0188\n",
            "Epoch: 010 | Train Loss: 0.01167 | Test Loss: 0.08481 | Train Error: 0.003617 | Test Error: 0.0237\n",
            "Epoch: 011 | Train Loss: 0.01144 | Test Loss: 0.08832 | Train Error: 0.003683 | Test Error: 0.0211\n",
            "Epoch: 012 | Train Loss: 0.008679 | Test Loss: 0.09268 | Train Error: 0.00285 | Test Error: 0.0225\n",
            "Epoch: 013 | Train Loss: 0.008481 | Test Loss: 0.08471 | Train Error: 0.002867 | Test Error: 0.0206\n",
            "Epoch: 014 | Train Loss: 0.00746 | Test Loss: 0.09856 | Train Error: 0.002433 | Test Error: 0.0223\n",
            "Epoch: 015 | Train Loss: 0.006987 | Test Loss: 0.09019 | Train Error: 0.00225 | Test Error: 0.0207\n",
            "Epoch: 016 | Train Loss: 0.006536 | Test Loss: 0.09465 | Train Error: 0.002167 | Test Error: 0.0203\n",
            "Epoch: 017 | Train Loss: 0.005447 | Test Loss: 0.09918 | Train Error: 0.00195 | Test Error: 0.0203\n",
            "Epoch: 018 | Train Loss: 0.005767 | Test Loss: 0.09054 | Train Error: 0.002 | Test Error: 0.0181\n",
            "Epoch: 019 | Train Loss: 0.006013 | Test Loss: 0.09794 | Train Error: 0.002033 | Test Error: 0.0172\n",
            "Epoch: 020 | Train Loss: 0.004879 | Test Loss: 0.109 | Train Error: 0.001517 | Test Error: 0.0197\n",
            "Epoch: 021 | Train Loss: 0.005291 | Test Loss: 0.1054 | Train Error: 0.0018 | Test Error: 0.0201\n",
            "Epoch: 022 | Train Loss: 0.005332 | Test Loss: 0.1013 | Train Error: 0.001717 | Test Error: 0.0185\n",
            "Epoch: 023 | Train Loss: 0.004782 | Test Loss: 0.127 | Train Error: 0.0016 | Test Error: 0.0213\n",
            "Epoch: 024 | Train Loss: 0.005774 | Test Loss: 0.1267 | Train Error: 0.0017 | Test Error: 0.0234\n",
            "Epoch: 025 | Train Loss: 0.004668 | Test Loss: 0.1186 | Train Error: 0.00165 | Test Error: 0.02\n",
            "Epoch: 026 | Train Loss: 0.0048 | Test Loss: 0.1221 | Train Error: 0.001717 | Test Error: 0.0202\n",
            "Epoch: 027 | Train Loss: 0.002869 | Test Loss: 0.1186 | Train Error: 0.0008833 | Test Error: 0.0195\n",
            "Epoch: 028 | Train Loss: 0.003829 | Test Loss: 0.1198 | Train Error: 0.001217 | Test Error: 0.0199\n",
            "Epoch: 029 | Train Loss: 0.00274 | Test Loss: 0.1282 | Train Error: 0.001017 | Test Error: 0.0186\n",
            "Epoch: 030 | Train Loss: 0.004068 | Test Loss: 0.1134 | Train Error: 0.0013 | Test Error: 0.0187\n",
            "Width: 512\n",
            "Epoch: 001 | Train Loss: 0.2228 | Test Loss: 0.1169 | Train Error: 0.06415 | Test Error: 0.0347\n",
            "Epoch: 002 | Train Loss: 0.08669 | Test Loss: 0.08373 | Train Error: 0.02652 | Test Error: 0.0271\n",
            "Epoch: 003 | Train Loss: 0.05674 | Test Loss: 0.07371 | Train Error: 0.01722 | Test Error: 0.0238\n",
            "Epoch: 004 | Train Loss: 0.03949 | Test Loss: 0.07325 | Train Error: 0.01248 | Test Error: 0.0218\n",
            "Epoch: 005 | Train Loss: 0.03008 | Test Loss: 0.06849 | Train Error: 0.0099 | Test Error: 0.0187\n",
            "Epoch: 006 | Train Loss: 0.02262 | Test Loss: 0.07005 | Train Error: 0.00735 | Test Error: 0.0212\n",
            "Epoch: 007 | Train Loss: 0.01628 | Test Loss: 0.07601 | Train Error: 0.005133 | Test Error: 0.0199\n",
            "Epoch: 008 | Train Loss: 0.01484 | Test Loss: 0.07891 | Train Error: 0.005017 | Test Error: 0.02\n",
            "Epoch: 009 | Train Loss: 0.01231 | Test Loss: 0.07302 | Train Error: 0.004017 | Test Error: 0.0186\n",
            "Epoch: 010 | Train Loss: 0.01002 | Test Loss: 0.07709 | Train Error: 0.0035 | Test Error: 0.0175\n",
            "Epoch: 011 | Train Loss: 0.01171 | Test Loss: 0.09153 | Train Error: 0.003983 | Test Error: 0.0214\n",
            "Epoch: 012 | Train Loss: 0.007995 | Test Loss: 0.08822 | Train Error: 0.002817 | Test Error: 0.0175\n",
            "Epoch: 013 | Train Loss: 0.007942 | Test Loss: 0.1012 | Train Error: 0.0026 | Test Error: 0.0202\n",
            "Epoch: 014 | Train Loss: 0.008196 | Test Loss: 0.08649 | Train Error: 0.00275 | Test Error: 0.017\n",
            "Epoch: 015 | Train Loss: 0.006946 | Test Loss: 0.1031 | Train Error: 0.0023 | Test Error: 0.0205\n",
            "Epoch: 016 | Train Loss: 0.005446 | Test Loss: 0.104 | Train Error: 0.0019 | Test Error: 0.0196\n",
            "Epoch: 017 | Train Loss: 0.007208 | Test Loss: 0.1022 | Train Error: 0.00255 | Test Error: 0.0181\n",
            "Epoch: 018 | Train Loss: 0.006059 | Test Loss: 0.1104 | Train Error: 0.002067 | Test Error: 0.0189\n",
            "Epoch: 019 | Train Loss: 0.006955 | Test Loss: 0.1081 | Train Error: 0.0024 | Test Error: 0.0187\n",
            "Epoch: 020 | Train Loss: 0.004712 | Test Loss: 0.1159 | Train Error: 0.00145 | Test Error: 0.0193\n",
            "Epoch: 021 | Train Loss: 0.006981 | Test Loss: 0.1148 | Train Error: 0.002033 | Test Error: 0.0179\n",
            "Epoch: 022 | Train Loss: 0.005174 | Test Loss: 0.1194 | Train Error: 0.001667 | Test Error: 0.0198\n",
            "Epoch: 023 | Train Loss: 0.005081 | Test Loss: 0.1223 | Train Error: 0.001617 | Test Error: 0.0182\n",
            "Epoch: 024 | Train Loss: 0.005564 | Test Loss: 0.1198 | Train Error: 0.00175 | Test Error: 0.0183\n",
            "Epoch: 025 | Train Loss: 0.005083 | Test Loss: 0.1223 | Train Error: 0.001733 | Test Error: 0.0178\n",
            "Epoch: 026 | Train Loss: 0.004702 | Test Loss: 0.1339 | Train Error: 0.00145 | Test Error: 0.0194\n",
            "Epoch: 027 | Train Loss: 0.005958 | Test Loss: 0.1146 | Train Error: 0.00175 | Test Error: 0.0181\n",
            "Epoch: 028 | Train Loss: 0.00374 | Test Loss: 0.149 | Train Error: 0.001183 | Test Error: 0.0198\n",
            "Epoch: 029 | Train Loss: 0.005665 | Test Loss: 0.1285 | Train Error: 0.00185 | Test Error: 0.0169\n",
            "Epoch: 030 | Train Loss: 0.003966 | Test Loss: 0.1579 | Train Error: 0.001383 | Test Error: 0.0196\n",
            "Width: 1024\n",
            "Epoch: 001 | Train Loss: 0.1993 | Test Loss: 0.08739 | Train Error: 0.05933 | Test Error: 0.0267\n",
            "Epoch: 002 | Train Loss: 0.0757 | Test Loss: 0.08723 | Train Error: 0.02302 | Test Error: 0.0262\n",
            "Epoch: 003 | Train Loss: 0.05116 | Test Loss: 0.07655 | Train Error: 0.01603 | Test Error: 0.024\n",
            "Epoch: 004 | Train Loss: 0.03462 | Test Loss: 0.07066 | Train Error: 0.01148 | Test Error: 0.021\n",
            "Epoch: 005 | Train Loss: 0.02607 | Test Loss: 0.07274 | Train Error: 0.008583 | Test Error: 0.0193\n",
            "Epoch: 006 | Train Loss: 0.01866 | Test Loss: 0.08596 | Train Error: 0.006317 | Test Error: 0.0229\n",
            "Epoch: 007 | Train Loss: 0.01858 | Test Loss: 0.07864 | Train Error: 0.006183 | Test Error: 0.0209\n",
            "Epoch: 008 | Train Loss: 0.01446 | Test Loss: 0.0771 | Train Error: 0.004883 | Test Error: 0.018\n",
            "Epoch: 009 | Train Loss: 0.01293 | Test Loss: 0.09008 | Train Error: 0.004217 | Test Error: 0.0203\n",
            "Epoch: 010 | Train Loss: 0.01202 | Test Loss: 0.09819 | Train Error: 0.003967 | Test Error: 0.0188\n",
            "Epoch: 011 | Train Loss: 0.01049 | Test Loss: 0.09438 | Train Error: 0.003367 | Test Error: 0.0195\n",
            "Epoch: 012 | Train Loss: 0.0102 | Test Loss: 0.1128 | Train Error: 0.003233 | Test Error: 0.0226\n",
            "Epoch: 013 | Train Loss: 0.01033 | Test Loss: 0.108 | Train Error: 0.003267 | Test Error: 0.0201\n",
            "Epoch: 014 | Train Loss: 0.00989 | Test Loss: 0.08351 | Train Error: 0.003283 | Test Error: 0.0167\n",
            "Epoch: 015 | Train Loss: 0.006172 | Test Loss: 0.09857 | Train Error: 0.00185 | Test Error: 0.0183\n",
            "Epoch: 016 | Train Loss: 0.007973 | Test Loss: 0.094 | Train Error: 0.002567 | Test Error: 0.0161\n",
            "Epoch: 017 | Train Loss: 0.008672 | Test Loss: 0.09754 | Train Error: 0.002733 | Test Error: 0.0159\n",
            "Epoch: 018 | Train Loss: 0.00812 | Test Loss: 0.1084 | Train Error: 0.002567 | Test Error: 0.0174\n",
            "Epoch: 019 | Train Loss: 0.008176 | Test Loss: 0.1595 | Train Error: 0.00255 | Test Error: 0.0245\n",
            "Epoch: 020 | Train Loss: 0.008152 | Test Loss: 0.122 | Train Error: 0.00235 | Test Error: 0.0186\n",
            "Epoch: 021 | Train Loss: 0.006625 | Test Loss: 0.1213 | Train Error: 0.00205 | Test Error: 0.0168\n",
            "Epoch: 022 | Train Loss: 0.007737 | Test Loss: 0.1249 | Train Error: 0.0022 | Test Error: 0.0178\n",
            "Epoch: 023 | Train Loss: 0.006356 | Test Loss: 0.1118 | Train Error: 0.0019 | Test Error: 0.0165\n",
            "Epoch: 024 | Train Loss: 0.004259 | Test Loss: 0.1177 | Train Error: 0.001267 | Test Error: 0.0168\n",
            "Epoch: 025 | Train Loss: 0.008775 | Test Loss: 0.1516 | Train Error: 0.002217 | Test Error: 0.0191\n",
            "Epoch: 026 | Train Loss: 0.005792 | Test Loss: 0.1322 | Train Error: 0.0016 | Test Error: 0.0168\n",
            "Epoch: 027 | Train Loss: 0.005185 | Test Loss: 0.1608 | Train Error: 0.001483 | Test Error: 0.0183\n",
            "Epoch: 028 | Train Loss: 0.006294 | Test Loss: 0.1171 | Train Error: 0.001867 | Test Error: 0.0159\n",
            "Epoch: 029 | Train Loss: 0.006664 | Test Loss: 0.1308 | Train Error: 0.0015 | Test Error: 0.0161\n",
            "Epoch: 030 | Train Loss: 0.007438 | Test Loss: 0.136 | Train Error: 0.001817 | Test Error: 0.0153\n"
          ]
        }
      ],
      "source": [
        "# Define the hyperparameters\n",
        "widths = [4, 8, 16, 32, 64, 128, 256, 512, 1024]\n",
        "depth = 1\n",
        "lr = 0.001\n",
        "epochs = 30\n",
        "batch_size = 32\n",
        "dim = 784\n",
        "nclass = 10\n",
        "Adam = True\n",
        "\n",
        "# Store the results\n",
        "store_widths = {}\n",
        "\n",
        "# Run the main function\n",
        "for width in widths:\n",
        "    print(f\"Width: {width}\")\n",
        "    train_loss, test_loss, train_error, test_error = main(batch_size, dim, nclass, width, depth, lr, epochs, train_set_mnist, test_set_mnist, Adam=Adam)\n",
        "    store_widths[width] = [train_loss, test_loss, train_error, test_error]"
      ]
    },
    {
      "cell_type": "code",
      "execution_count": 13,
      "metadata": {
        "colab": {
          "base_uri": "https://localhost:8080/",
          "height": 332
        },
        "id": "slXBQ9zj31ZK",
        "outputId": "880f8240-2bbf-4ec9-9eed-9dcde902a22e"
      },
      "outputs": [
        {
          "data": {
            "text/html": [
              "<div>\n",
              "<style scoped>\n",
              "    .dataframe tbody tr th:only-of-type {\n",
              "        vertical-align: middle;\n",
              "    }\n",
              "\n",
              "    .dataframe tbody tr th {\n",
              "        vertical-align: top;\n",
              "    }\n",
              "\n",
              "    .dataframe thead th {\n",
              "        text-align: right;\n",
              "    }\n",
              "</style>\n",
              "<table border=\"1\" class=\"dataframe\">\n",
              "  <thead>\n",
              "    <tr style=\"text-align: right;\">\n",
              "      <th></th>\n",
              "      <th>Width</th>\n",
              "      <th>Train loss</th>\n",
              "      <th>Test loss</th>\n",
              "    </tr>\n",
              "  </thead>\n",
              "  <tbody>\n",
              "    <tr>\n",
              "      <th>0</th>\n",
              "      <td>4</td>\n",
              "      <td>0.411669</td>\n",
              "      <td>0.43851</td>\n",
              "    </tr>\n",
              "    <tr>\n",
              "      <th>1</th>\n",
              "      <td>8</td>\n",
              "      <td>0.210912</td>\n",
              "      <td>0.2433</td>\n",
              "    </tr>\n",
              "    <tr>\n",
              "      <th>2</th>\n",
              "      <td>16</td>\n",
              "      <td>0.09413</td>\n",
              "      <td>0.169243</td>\n",
              "    </tr>\n",
              "    <tr>\n",
              "      <th>3</th>\n",
              "      <td>32</td>\n",
              "      <td>0.023074</td>\n",
              "      <td>0.150824</td>\n",
              "    </tr>\n",
              "    <tr>\n",
              "      <th>4</th>\n",
              "      <td>64</td>\n",
              "      <td>0.005859</td>\n",
              "      <td>0.142004</td>\n",
              "    </tr>\n",
              "    <tr>\n",
              "      <th>5</th>\n",
              "      <td>128</td>\n",
              "      <td>0.002702</td>\n",
              "      <td>0.132554</td>\n",
              "    </tr>\n",
              "    <tr>\n",
              "      <th>6</th>\n",
              "      <td>256</td>\n",
              "      <td>0.004068</td>\n",
              "      <td>0.11339</td>\n",
              "    </tr>\n",
              "    <tr>\n",
              "      <th>7</th>\n",
              "      <td>512</td>\n",
              "      <td>0.003966</td>\n",
              "      <td>0.157918</td>\n",
              "    </tr>\n",
              "    <tr>\n",
              "      <th>8</th>\n",
              "      <td>1024</td>\n",
              "      <td>0.007438</td>\n",
              "      <td>0.136038</td>\n",
              "    </tr>\n",
              "  </tbody>\n",
              "</table>\n",
              "</div>"
            ],
            "text/plain": [
              "  Width Train loss Test loss\n",
              "0     4   0.411669   0.43851\n",
              "1     8   0.210912    0.2433\n",
              "2    16    0.09413  0.169243\n",
              "3    32   0.023074  0.150824\n",
              "4    64   0.005859  0.142004\n",
              "5   128   0.002702  0.132554\n",
              "6   256   0.004068   0.11339\n",
              "7   512   0.003966  0.157918\n",
              "8  1024   0.007438  0.136038"
            ]
          },
          "execution_count": 13,
          "metadata": {},
          "output_type": "execute_result"
        }
      ],
      "source": [
        "df = pd.DataFrame(columns=[\"Width\", \"Train loss\", \"Test loss\"])\n",
        "for width in widths:\n",
        "    df = pd.concat([df, pd.DataFrame([[width, store_widths[width][0][-1], store_widths[width][1][-1]]], columns=[\"Width\", \"Train loss\", \"Test loss\"])])\n",
        "df.reset_index(drop=True, inplace=True)\n",
        "df"
      ]
    },
    {
      "cell_type": "code",
      "execution_count": 14,
      "metadata": {
        "colab": {
          "base_uri": "https://localhost:8080/",
          "height": 569
        },
        "id": "69ZE4DqY31V0",
        "outputId": "70a33cb4-8ba8-4c32-bb64-9b1e7a335a5e"
      },
      "outputs": [
        {
          "data": {
            "image/png": "[encoded data removed]",
            "text/plain": [
              "<Figure size 720x432 with 1 Axes>"
            ]
          },
          "metadata": {
            "needs_background": "light"
          },
          "output_type": "display_data"
        }
      ],
      "source": [
        "plt.figure(figsize=(10, 6))\n",
        "plt.plot(widths, [store_widths[width][0][-1] for width in widths], label=\"Train loss\")\n",
        "plt.plot(widths, [store_widths[width][1][-1] for width in widths], label=\"Test loss\")\n",
        "plt.legend()\n",
        "plt.title(\"Train and test loss for different widths\")\n",
        "plt.xscale(\"log\", base=2)\n",
        "plt.xlabel(\"Width\")\n",
        "plt.ylabel(\"Loss\")\n",
        "plt.show()"
      ]
    },
    {
      "cell_type": "code",
      "execution_count": 15,
      "metadata": {
        "colab": {
          "base_uri": "https://localhost:8080/",
          "height": 569
        },
        "id": "Lvf_FfX831Rd",
        "outputId": "e2aeaa0a-8e5e-42a7-e2a4-1b8b989a8644"
      },
      "outputs": [
        {
          "data": {
            "image/png": "[encoded data removed]",
            "text/plain": [
              "<Figure size 720x432 with 1 Axes>"
            ]
          },
          "metadata": {
            "needs_background": "light"
          },
          "output_type": "display_data"
        }
      ],
      "source": [
        "plt.figure(figsize=(10, 6))\n",
        "plt.plot(widths, [store_widths[width][2][-1] for width in widths], label=\"Train error\")\n",
        "plt.plot(widths, [store_widths[width][3][-1] for width in widths], label=\"Test error\")\n",
        "plt.xscale(\"log\", base=2)\n",
        "plt.xlabel(\"Width\")\n",
        "plt.ylabel(\"Error\")\n",
        "plt.legend()\n",
        "plt.title(\"Train and test error for different widths\")\n",
        "plt.show()"
      ]
    },
    {
      "cell_type": "markdown",
      "metadata": {
        "id": "kFaC4RDhlWKL"
      },
      "source": [
        "\n",
        "Upon analysing the training and testing errors through graphical representation, we observe a pattern that aligns closely with our expectations set forth in the assignment, particularly when adhering to the specified window size. Notably, there's a discernible decrease in training loss as network width—or the number of neurons within each hidden layer—expands. This trend underscores the principle that a neural network's complexity, and consequently its ability to model the training data, escalates with increased neuronal count. Consistent with the assignment's guidance, the testing error mirrors this behavior, diminishing as network width grows.\n",
        "\n",
        "The compiled data from training various neural network configurations reveals a clear correlation between network width and error rates: both training and testing errors recede as the width broadens. This phenomenon aligns with insights from recent research, which suggests that testing error either continues to decrease or remains stable, even as the network's parameter count significantly escalates. Contrary to traditional generalisation bounds—which would predict an uptick in testing error due to overfitting at a certain parameter threshold—our observations corroborate the continuous improvement in error rates with increasing width. Our findings, mirroring those anticipated in the exercise guidelines, indicate a successful replication of the expected outcome.\n",
        "\n",
        "Furthermore, the lectures highlight that increased network width tends to enhance the convexity of the optimisation landscape, thereby facilitating a more effective fit to the data. It is therefore logical and anticipated that both training and testing errors would decline as network width is augmented. Our analysis suggests that we have identified a set of configuration parameters where both test error and loss diminish in tandem with an increase in network parameters.\n",
        "\n",
        "However, it's worth noting that an optimal network width seems to be around 64 neurons per hidden layer, marked by a significant reduction in both testing error and loss. Beyond this point, the risk of overfitting becomes pronounced due to potential over-parameterisation, cautioning against excessively expanding the network width.\n"
      ]
    },
    {
      "cell_type": "markdown",
      "metadata": {
        "id": "yI7QJ8gBj5fh"
      },
      "source": [
        "***\n",
        "***\n",
        "\n",
        "## Part 4: The link between Neural Networks and Gaussian Processes [8 points]"
      ]
    },
    {
      "cell_type": "markdown",
      "metadata": {
        "id": "8HKZqQU2j5fi"
      },
      "source": [
        "### Part 4.1: Proving the relationship between a Gaussian process and a neural network [4 points]"
      ]
    },
    {
      "cell_type": "markdown",
      "metadata": {
        "id": "wDRR0PWuWj1s"
      },
      "source": [
        "We consider now a fully-connected single hidden-layer neural network. The input is of dimensionality $N_0$ and we have $N_1$ hidden nodes in layer 1 and $N_2$ output nodes. The activation function is given by $\\phi$. The output for node $i$ in the first layer is given by\n",
        "$$f_i^{(1)}(x)=\\sum_{j=1}^{N_0}w_{ij}^{(1)}x_j+b_i^{(1)},$$\n",
        "where $w_{ij}^{(1)}$ is the component of the weight matrix connecting node $i$ in layer 1 with inpu $j$ and $b_i^{(1)}$ is the bias we add in layer 1 to output node $i$. This is passed though the nonlinearity to obtain\n",
        "$$g_i^{(1)}(x)=\\phi(f_i^{(1)}(x))$$\n",
        "The output layer is consequently given by\n",
        "$$f_i^{(2)}(x)=\\sum_{j=1}^{N_1}w_{ij}^{(2)}g_j^{(1)}(x)+b_i^{(2)}$$\n",
        "\n",
        "We assume an i.i.d distribution on the parameters, namely\n",
        "\n",
        "\\begin{align*}\n",
        "  w_{ij}^{(l)}&\\overset{\\text{i.i.d}}{\\sim} N(0, C_w^{(l)})\\\\\n",
        "  b_{i}^{(l)}&\\overset{\\text{i.i.d}}{\\sim} N(0, \\sigma_b^{(l)})\n",
        "\\end{align*}"
      ]
    },
    {
      "cell_type": "markdown",
      "metadata": {
        "id": "diEcMfCrj5fi"
      },
      "source": [
        "### Task 1: Proper weight scaling"
      ]
    },
    {
      "cell_type": "markdown",
      "metadata": {
        "id": "GfzQ7dDejtx5"
      },
      "source": [
        "We scale to ensure finite variance when taking width limits in succesion so that we can apply the multivariate Central Limit Theorem.\n",
        "\n",
        "The CLT states that the sum of a sample of $N$ i.i.d variables with finite variance will converge in distribution $N(N\\mu, N\\sigma^2)$. Scaling $\\sigma^2$ by $\\frac{1}{N}$ ensures constant variance."
      ]
    },
    {
      "cell_type": "markdown",
      "metadata": {
        "id": "p3r5SKQdj5fi"
      },
      "source": [
        "### Task 2: Derive the GP relation for a single hidden layer\n",
        "\n",
        "In this section we take inspiration from Matthews et el.\n",
        "\n",
        "Note that because weights and biases are taken to be i.i.d, the post activations $g_j^{(1)}, g_{j'}^{(1)}$ are independent for $j\\neq j'$.\n",
        "\n",
        "We aim to show that $f_i^{(2)}(x)$ converges to a Gaussian process with mean $\\mu^1$ and covariance matrix $K^1$. Since $f_i^{(2)}(x)$ is a sum of i.i.d terms, it follows from the Central Limit Theorem that in the limit $N_1\\to\\infty$, $f_i^{(2)}(x)$ will be Gaussian distributed. We read from the definition that the hidden-to-output layer interactions can be written in matrix-vector multiplcations as\n",
        "$f^{(2)}=w^{(2)}g^{(1)}(x)+b^{(2)}$. Therefore, from the *multivariate* Central Limit Theorem, any finite collection $\\{f_i^{(2)}(x^{\\alpha_1}), \\dots, f_i^{(2)}(x^{\\alpha_k})\\}$ for distinct inputs $\\alpha_1, \\dots ,\\alpha_k$ will have a joint multivariate Gaussian distribution, which is exactly the definition of a Gaussian process. Consider the vector\n",
        "\n",
        "\\begin{equation*}\n",
        "F^{(2)}=\n",
        "\\begin{pmatrix}f^{(2)}(x)\\\\f^{(2)}(x')\n",
        "\\end{pmatrix}=\n",
        "\\begin{pmatrix}b^{(2)}\\\\b^{(2)}\n",
        "\\end{pmatrix}\n",
        "+\\sum_{j=1}^{N_0}\\begin{pmatrix}w_{:,j}^{(2)}\\phi(w_{:,j}^{(1)}x+b_j^{(1)})\\\\\n",
        "w_{:,j}^{(2)}\\phi(w_{:,j}^{(1)}x'+b_j^{(1)})\n",
        "\\end{pmatrix}\n",
        "\\end{equation*}\n",
        "\n",
        "\n",
        "Writing the relationship in this format clearly indicates that the multivariate central limit theorem can be applied. Each vector term on the right-hand side, given the inputs $x $ and $x' $, is independent and identically distributed. It is assumed that the variances of the activities are bounded. The chosen scaling for the variances aligns perfectly with the conditions required for the central limit theorem to hold and is consistent with the initialization strategies most commonly employed in practice. Consequently, as the number of units $ H $ increases, $ F^{(2)} $ tends toward a multivariate normal distribution in terms of distribution. The eventual normal distribution is completely characterized by its mean and covariance. We therefore conclude that $f_i^{(2)}\\sim \\mathcal{GP}(\\mu^1, K^1)$ for some $\\mu^1, K^1$ to be determined.\n",
        "\n",
        "Because parameters are zero mean, we conclude $\\mu^1(x)=0$. To calculate covariance matrix $K$ recall that\n",
        "\\begin{align*}\n",
        "K^1(x,x')&=\\mathbb{E}\\left[f_i^{(2)}(x)f_i^{(2)}(x')\\right]\\\\\n",
        "&= \\mathbb{E} \\left[ \\left( ∑_j w_{i,j}^{(2)}g_j^{(1)}(x) + b_i^{(2)} \\right) \\left( ∑_j w_{i,j}^{(2)}g_j^{(1)}(x') + b_i^{(2)} \\right) \\right]\\\\\n",
        "&=\\mathbb{E} \\left[ \\left(\\sum_{k=1} \\sum_{j=1} w_{ik}^{(2)}g_{k}^{(1)}(x) w_{ij}^{(2)}g_{j}^{(1)}(x')\\right) + 2b_i^{(2)}\\left( ∑_j w_{i,j}^{(2)}g_j^{(1)}(x)\\right) +(b_i^{(2)})^2\\right]\\\\\n",
        "&=\\mathbb{E} \\left[ \\left(\\sum_{k=1} \\sum_{j=1} w_{ik}^{(2)}g_{k}^{(1)}(x) w_{ij}^{(2)}g_{j}^{(1)}(x')\\right)\\right] + \\mathbb{E}\\left[2b_i^{(2)}\\left( ∑_j w_{i,j}^{(2)}g_j^{(1)}(x)\\right)\\right] + \\mathbb{E}\\left[(b_i^{(2)})^2\\right]\\\\\n",
        "&=\\mathbb{E} \\left[ \\left(\\sum_{k=1} \\sum_{j=1} w_{ik}^{(2)}g_{k}^{(1)}(x) w_{ij}^{(2)}g_{j}^{(1)}(x')\\right)\\right] + \\underbrace{\\mathbb{E}\\left[2b_i^{(2)}\\right]}_{=0}∑_j \\underbrace{\\mathbb{E}\\left[  w_{i,j}^{(2)}g_j^{(1)}(x)\\right]}_{=0} + \\mathbb{E}\\left[(b_i^{(2)})^2\\right]\\\\\n",
        "&= \\sigma_b^2+\\sigma_w^2\\mathbb{E}\\left[g_i^{(1)}(x)g_i^{(1)}(x')\\right]\n",
        "\\end{align*}\n",
        "where the expectation in the RHS depends on the choice of activation function $\\phi$ and whose analytical computation will require integrating over the distribution of $w^{(1)}, b^{(1)}$.\n",
        "\n",
        "*Note that, when expanding out the double sum $\\left( ∑_j w_{i,j}^{(2)}g_j^{(1)}(x) + b_i^{(2)} \\right) \\left( ∑_j w_{i,j}^{(2)}g_j^{(1)}(x') + b_i^{(2)} \\right)$ we have only two nonzero terms (by independence and the zero-mean nature of the bias), namely $\\mathbb{E}\\left[(b_i^{(2)})^2\\right]$, which is exactly $σ_b^2$, and $$\\mathbb{E} \\left[ \\sum_{k=1} \\sum_{j=1} w_{ik}^{(2)}g_{k}^{(1)}(x) w_{ij}^{(2)}g_{j}^{(1)}(x')  \\right] = \\mathbb{E} \\left[ (w_{ii}^{(2)}) ^2 g_{i}^{(1)}(x)g_{i}^{(1)}(x')  \\right] = \\sigma_w^2 \\mathbb{E} \\left[ g_{i}^{(1)}(x)g_{i}^{(1)}(x')  \\right]$$\n",
        "where we remove all terms such that $i\\neq \n",
        "k\\neq j$ by independence of the weights with one another, and the fact that all terms are zero-mean.*"
      ]
    },
    {
      "cell_type": "markdown",
      "metadata": {
        "id": "0Zu6ciM9j5fj"
      },
      "source": [
        "### Task 3: Why in succession"
      ]
    },
    {
      "cell_type": "markdown",
      "metadata": {
        "id": "r8Os8Mz4j5fj"
      },
      "source": [
        "We seek to extend this argument to deeper layers inductively; therefore, we require using the argument above that the previous layer is already distributed according to a Gaussian process. As such, we take the limits $N_1\\to\\infty, N_2\\to\\infty\\dots$ in succession to allow application of the induction hypothesis. This is required for application of the multivariate CLT.\n",
        "\n",
        "We should note it is possible to derive this GP relation without sequential limits; see for example Appendix C of [Lee et al. (2018)](https://link.springer.com/chapter/10.1007/978-1-4612-0745-0_2).\n"
      ]
    },
    {
      "cell_type": "markdown",
      "metadata": {
        "id": "vQ4EV355j5fj"
      },
      "source": [
        "### Task 4: Derive the GP relation for multiple hidden layers\n",
        "\n"
      ]
    },
    {
      "cell_type": "markdown",
      "metadata": {
        "id": "9Mzu4zSTj5fj"
      },
      "source": [
        "We will show that for arbitrary layer $l$ the output\n",
        "\\begin{equation}f_i^{(l)}(x)=\\sum_{j=1}^{N_l}w_{ij}^{(l)}g_j^{(l-1)}(x)+b_i^{(l)}\\end{equation}\n",
        "with $g_J^{(l-1)}(x)=\\phi(f_j^{(l-1)}(x))$\n",
        "is a Gaussian process with mean $\\mu^l$ and covariance matrix $K^l$.\n",
        "\n",
        "We assume that $f_i^{(l-1)}$ is a Gaussian process, i.i.d for each $i$, and that $g_i^{(l-1)}(x)$ are i.i.d. The computation in the $l$th layer is as as above. As before, $f_i^{(l)}(x)$ is a sum of i.i.d random variables so that as $N_l\\to\\infty$ any finite collection $\\{f_i^{(l)}(x^{\\alpha_1}), \\dots, f_i^{(l)}(x^{\\alpha_k})\\}$ will have a joint multivariate Gaussian distribution by the multivariate Central Limit Theorem. We can apply this because of the scaling of the variance $C_w^{(l)}=\\frac{\\sigma_w^{(l)}}{N_{l-1}}$ which ensures that in each layer the variance is finite and constant.\n",
        "\n",
        "The variables $\\{f_i^{(l)}\\}$ will therefore be disributed according to a GP with mean $\\mu^l$ and covariance $K^l$. As before, the mean $\\mu^l$ is trivially zero. The covariance is given by\n",
        "\\begin{align*}\n",
        "K^l(x,x')&=\\mathbb{E}\\left[\\left(f_i^{(l)}(x)-\\mu^l\\right)\\left(f_i^{(l)}(x')-\\mu^l\\right)\\right]\\\\\n",
        "&= \\mathbb{E} \\left[ \\left( ∑_j w_{i,j}^{(l)}g_j^{(l-1)}(x) + b_i^{(l)} \\right) \\left( ∑_j w_{i,j}^{(l)}g_j^{(l-1)}(x') + b_i^{(l)} \\right) \\right] \\; .\\\\\n",
        "&= \\sigma_b^2+\\sigma_w^2\\mathbb{E}\\left[g_i^{(l-1)}(x)g_i^{(l-1)}(x')\\right]\\\\\n",
        "&=\\sigma_b^2+\\sigma_w^2\\mathbb{E}\\left[\\phi\\left(f_i^{(l-1)}(x)\\right)\\phi\\left(f_i^{(l-1)}(x')\\right)\\right]\n",
        "\\end{align*}\n",
        "\n",
        "where the expectation is taken over the Gaussian process $f_i^{(l-1)}\\sim \\mathcal{GP}(0, K^{l-1})$ and we use the logic from the previous part to reduce the expectation.\n",
        "\n",
        "*NB. Formally, we can represent $w^{(l)}_{i, j} = \\frac{1}{\\sqrt{N_l}} X_{ij}^{(l)}$ where $X_{ij}^{(l)} \\sim \\mathcal{N}(0, \\sigma_w^{(l)})$. Then the sum over $w$ becomes $S_{N_l} = \\frac{1}{\\sqrt{N_l}} \\sum_{j=1}^{N_l}X_{ij}^{(l)} \\to \\mathcal{N}(0, K^l), \\; N_l \\to \\infty$ where we used the fact the $\\mathbb{E}[X_{ij}^{(l)}]=0$.*"
      ]
    },
    {
      "cell_type": "markdown",
      "metadata": {
        "id": "A3aKJJ0jj5fj"
      },
      "source": [
        "***\n",
        "\n",
        "### Part 4.2: Analysing the performance of the Gaussian process and a neural network [4 points]"
      ]
    },
    {
      "cell_type": "markdown",
      "metadata": {
        "id": "JFOiXMyUj5fj"
      },
      "source": [
        "We write code to load, filter, subsample, and prepare datasets from CIFAR-10 for machine learning tasks using PyTorch. We set the default tensor type to `torch.float64` for precision as requested by the problem description. A transformation to convert images to PyTorch tensors is defined using `transforms.ToTensor()`.\n",
        "\n",
        "The CIFAR-10 dataset is then loaded for both training and testing purposes from the `./data` directory, applying the defined transformation to convert images into tensor format. We filter images belonging to classes with indices 3 and 9, which correspond to Cat and Truck, mapping these to labels -0.5 and +0.5, to facilitate learning with a Gaussian process. We randomly subsample 1000 instances from each set for both training and testing.\n",
        "\n",
        "We prepare subsampled datasets for training and testing using `torch.utils.data.Subset`, flatten images for processing, remap class labels to their corresponding numerical values, and return input and label matrices.\n",
        "\n",
        "DataLoaders for the subsampled training and testing datasets are created with a batch size of 1. This setup enables efficient data extraction into matrices."
      ]
    },
    {
      "cell_type": "code",
      "execution_count": 16,
      "metadata": {
        "colab": {
          "base_uri": "https://localhost:8080/"
        },
        "id": "1rhqWM74j5fj",
        "outputId": "f7422e6c-50c7-4fff-933c-050c7c2ed15f"
      },
      "outputs": [
        {
          "name": "stdout",
          "output_type": "stream",
          "text": [
            "Downloading https://www.cs.toronto.edu/~kriz/cifar-10-python.tar.gz to ./data/cifar-10-python.tar.gz\n"
          ]
        },
        {
          "name": "stderr",
          "output_type": "stream",
          "text": [
            "100%|██████████| 170498071/170498071 [00:12<00:00, 14169920.96it/s]\n"
          ]
        },
        {
          "name": "stdout",
          "output_type": "stream",
          "text": [
            "Extracting ./data/cifar-10-python.tar.gz to ./data\n",
            "Files already downloaded and verified\n",
            "Training X shape and type: torch.Size([1000, 3072]) torch.float64\n",
            "Training y shape and type: torch.Size([1000]) torch.float64\n",
            "Test X* shape and type: torch.Size([1000, 3072]) torch.float64\n",
            "Test y* shape and type: torch.Size([1000]) torch.float64\n"
          ]
        }
      ],
      "source": [
        "import torch\n",
        "import torchvision\n",
        "import torchvision.transforms as transforms\n",
        "import numpy as np\n",
        "\n",
        "torch.set_default_dtype(torch.float64)\n",
        "\n",
        "# Transformation definition\n",
        "transform = transforms.Compose([\n",
        "    transforms.ToTensor()\n",
        "])\n",
        "\n",
        "# Dataset loading\n",
        "trainset = torchvision.datasets.CIFAR10(root='./data', train=True, download=True, transform=transform)\n",
        "testset = torchvision.datasets.CIFAR10(root='./data', train=False, download=True, transform=transform)\n",
        "\n",
        "# Class filtering and subsampling\n",
        "class_indices = {3: -0.5, 9: 0.5}\n",
        "filtered_train_indices = [i for i, label in enumerate(trainset.targets) if label in class_indices]\n",
        "filtered_test_indices = [i for i, label in enumerate(testset.targets) if label in class_indices]\n",
        "\n",
        "subsample_train_indices = np.random.choice(filtered_train_indices, 1000, replace=False)\n",
        "\n",
        "subsample_test_indices = np.random.choice(filtered_test_indices, 1000, replace=False)\n",
        "\n",
        "# Prepare datasets\n",
        "subsampled_train_dataset = torch.utils.data.Subset(trainset, subsample_train_indices)\n",
        "subsampled_test_dataset = torch.utils.data.Subset(testset, subsample_test_indices)\n",
        "\n",
        "# Function to extract data as matrices\n",
        "def extract_data(loader, images=False):\n",
        "    \"\"\"\n",
        "    Extracts the data from a DataLoader.\n",
        "    \n",
        "    Args:\n",
        "        loader: torch.utils.data.DataLoader, the data loader\n",
        "        images: bool, whether to return images\n",
        "    Returns:\n",
        "        X: torch.Tensor, the input data\n",
        "        y: torch.Tensor, the labels\n",
        "    \"\"\"\n",
        "    X, y = [], []\n",
        "    if images:\n",
        "        X_images = []\n",
        "    for data in loader:\n",
        "        inputs, labels = data\n",
        "        if images:\n",
        "          X_images.append(inputs)\n",
        "        inputs = inputs.reshape(inputs.shape[0], -1)  # Flatten the image\n",
        "        label = torch.tensor([class_indices[labels.item()]], dtype=torch.float64)  # Remap labels to -0.5 and +0.5\n",
        "        X.append(inputs)\n",
        "        y.append(label)\n",
        "    if images:\n",
        "        return X_images\n",
        "    X = torch.cat(X).to(dtype=torch.float64)  # Convert to float64\n",
        "    y = torch.cat(y).to(dtype=torch.float64)  # Convert to float64\n",
        "    return X, y\n",
        "\n",
        "# Creating DataLoaders\n",
        "trainloader = torch.utils.data.DataLoader(subsampled_train_dataset, batch_size=1, shuffle=False)\n",
        "testloader = torch.utils.data.DataLoader(subsampled_test_dataset, batch_size=1, shuffle=False)\n",
        "\n",
        "# Extract matrices\n",
        "X, y = extract_data(trainloader)\n",
        "X_star, y_star = extract_data(testloader)\n",
        "\n",
        "# Print shapes and types to verify\n",
        "print(\"Training X shape and type:\", X.shape, X.dtype)\n",
        "print(\"Training y shape and type:\", y.shape, y.dtype)\n",
        "print(\"Test X* shape and type:\", X_star.shape, X_star.dtype)\n",
        "print(\"Test y* shape and type:\", y_star.shape, y_star.dtype)\n"
      ]
    },
    {
      "cell_type": "markdown",
      "metadata": {},
      "source": [
        "We define a function to implement a kernel operation, structured within a class hierarchy where `Kernel` serves as the base class, outlining the framework for kernel functions, similar to the exercise notebook from Week 3. The `Kernel` class is abstract, requiring subclasses to override its methods for specific implementations. The `ReLUKernel` class, inheriting from `Kernel`, is tailored to compute the kernel between inputs using the ReLU activation function, encapsulating the computation within its `__call__` method.\n",
        "\n",
        "Upon initialization, `ReLUKernel` takes a dictionary of parameters including `L` (depth of the neural network), `sigma_w_sq` (variance of the weights), and `sigma_b_sq` (variance of the biases). The core computation occurs when the `__call__` method is invoked with two input tensors, `X1` and `X2`. It calculates the kernel matrix between these inputs through an iterative process that emulates the effect of applying the ReLU activation function across `L` layers of a neural network.\n",
        "\n",
        "- Initial kernel matrices `Kxxprime`, `Kxx`, and `Kxprimexprime` are calculated based on the dot product of the inputs, scaled by the weight variance `sigma_w` and bias variance `sigma_b`, and normalized by the feature dimension `N`.\n",
        "- For each layer from 1 to `L`, it updates these kernel matrices by applying transformations that mimic the non-linear activation through ReLU. This involves calculating angles (`thetaxxprime`, `thetaxx`, `thetaxprimexprime`) between the points in the feature space and using these angles to adjust the kernel matrices to account for the ReLU transformation.\n",
        "- The final result, `Kxxprime`, represents the kernel matrix after applying `L` layers of transformations, capturing the similarity between inputs `X1` and `X2` as processed by a deep neural network with ReLU activations.\n",
        "\n",
        "This implementation leverages PyTorch for tensor operations, enabling efficient computation of the kernels."
      ]
    },
    {
      "cell_type": "code",
      "execution_count": 17,
      "metadata": {
        "id": "_IkW_cytj5fk"
      },
      "outputs": [],
      "source": [
        "\n",
        "class Kernel:\n",
        "  \"\"\"\n",
        "  Base Kernel class. Methods should be overwritten.\n",
        "  \"\"\"\n",
        "\n",
        "  def __init__(self, params : dict):\n",
        "    pass\n",
        "\n",
        "  def __call__(self, x1, x2):\n",
        "    raise NotImplementedError()\n",
        "\n",
        "\n",
        "class ReLUKernel(Kernel):\n",
        "    \"\"\"\n",
        "    ReLU kernel.\n",
        "\n",
        "    Args:\n",
        "        params: dict, the parameters of the kernel\n",
        "    \"\"\"\n",
        "    def __init__(self, params: dict):\n",
        "        self.L = params['L']\n",
        "        self.sigma_w_sq = params['sigma_w_sq']\n",
        "        self.sigma_b_sq = params['sigma_b_sq']\n",
        "\n",
        "    def __call__(self, X1, X2):\n",
        "        \"\"\"\n",
        "        Compute the kernel matrix.\n",
        "        Args: \n",
        "            X1: torch.Tensor, the first input matrix\n",
        "            X2: torch.Tensor, the second input matrix\n",
        "        \"\"\"\n",
        "        L = self.L\n",
        "        sigma_w = self.sigma_w_sq\n",
        "        sigma_b = self.sigma_b_sq\n",
        "\n",
        "\n",
        "        M1, N = X1.shape\n",
        "        M2, _ = X2.shape\n",
        "\n",
        "        Kxxprime = sigma_b + sigma_w * (X1 @ X2.t() / N)\n",
        "        Kxx_vect = torch.diag(sigma_b + sigma_w * (X1 @ X1.t() / N))\n",
        "        Kxx = Kxx_vect.view(-1, 1).expand(-1, M2)\n",
        "        Kxprimexprime_vect = torch.diag(sigma_b + sigma_w * (X2 @ X2.t() / N))\n",
        "        Kxprimexprime = Kxprimexprime_vect.view(1, -1).expand(M1, -1)\n",
        "\n",
        "        for l in range(1, L + 1):\n",
        "            thetaxxprime = torch.acos(Kxxprime / torch.sqrt(Kxx * Kxprimexprime))\n",
        "            thetaxx = torch.acos(Kxx / torch.sqrt(Kxx * Kxx))\n",
        "            thetaxprimexprime = torch.acos(Kxprimexprime / torch.sqrt(Kxprimexprime * Kxprimexprime))\n",
        "\n",
        "            Kxxprime = sigma_b + (sigma_w / (2 * torch.pi)) * torch.sqrt(Kxx * Kxprimexprime) * (torch.sin(thetaxxprime) + (torch.pi - thetaxxprime) * torch.cos(thetaxxprime))\n",
        "            Kxx = sigma_b + (sigma_w / (2 * torch.pi)) * torch.sqrt(Kxx * Kxx) * (torch.sin(thetaxx) + (torch.pi - thetaxx) * torch.cos(thetaxx))\n",
        "            Kxprimexprime = sigma_b + (sigma_w / (2 * torch.pi)) * torch.sqrt(Kxprimexprime * Kxprimexprime) * (torch.sin(thetaxprimexprime) + (torch.pi - thetaxprimexprime) * torch.cos(thetaxprimexprime))\n",
        "\n",
        "        return Kxxprime\n",
        "\n"
      ]
    },
    {
      "cell_type": "markdown",
      "metadata": {},
      "source": [
        "We define a class `GP` to encapsulate a Gaussian Process model, leveraging a provided kernel function to model and predict outcomes based on observations.\n",
        "\n",
        "The `predict` method of the `GP` class takes in new test points `x_star`, along with observed data points `X` and their corresponding responses `y`. It also allows specifying the number of posterior samples to draw (`size`) and the noise level (`sigma`) in the observations. The core functionality of this method is to fit the GP model to the observations and to predict the outcomes at the test points by drawing samples from the posterior distribution defined by the fitted model.\n",
        "\n",
        "The method starts by computing several kernel matrices: `k_xs_x` (covariance between test points and observed points), `k_x_xs` (transpose of `k_xs_x`), `k_xs_xs` (covariance between test points), and `k_x_x` (covariance between observed points). It then adds noise variance to the diagonal of `k_x_x` to form the observed covariance matrix `cov_x_x`, accounting for observation noise.\n",
        "\n",
        "Using these matrices, the method calculates the posterior mean and variance of the predictions at the test points. The posterior mean provides the best guess of the function values at `x_star`, while the posterior variance captures the uncertainty around these predictions.\n",
        "\n",
        "To ensure numerical stability and the mathematical properties of covariance matrices, the method enforces symmetry and positive definiteness on the computed posterior variance. This is done by averaging the matrix with its transpose and adding a small noise term to the diagonal elements.\n",
        "\n",
        "Finally, the method draws samples from a multivariate normal distribution defined by the posterior mean and variance, providing a probabilistic forecast for the test points. The posterior variance is then adjusted to remove the diagonal variance so that later, when we compute the `argmax`, the result is the largest covariance, rather than the largest variance."
      ]
    },
    {
      "cell_type": "code",
      "execution_count": 18,
      "metadata": {
        "id": "jWzlsD8s4q4s"
      },
      "outputs": [],
      "source": [
        "class GP:\n",
        "    def __init__(self, kernel):\n",
        "        \"\"\"\n",
        "        Initialize the Gaussian Process (GP) with a specified kernel.\n",
        "\n",
        "        Args:\n",
        "        kernel (callable): The kernel function to use in the GP.\n",
        "        \"\"\"\n",
        "        self.k = kernel\n",
        "\n",
        "    def predict(self, x_star, X=None, y=None, size=1, sigma=0.):\n",
        "        \"\"\"\n",
        "        Given observations (X, y) and test points x_star, fit a GP model\n",
        "        and draw posterior samples for f(x_star) from the fitted model.\n",
        "\n",
        "        Args:\n",
        "        x_star (torch.Tensor): Test points at which predictions will be made.\n",
        "        X (torch.Tensor): Observed features.\n",
        "        y (torch.Tensor): Observed response variables.\n",
        "        size (int): Number of posterior samples to draw.\n",
        "        sigma (float): Noise level in observations.\n",
        "\n",
        "        Returns:\n",
        "        torch.Tensor: Posterior samples for f(x_star).\n",
        "        \"\"\"\n",
        "\n",
        "        # Compute kernel matrices\n",
        "        k_xs_x   = self.k(x_star, X)       # m x n\n",
        "        k_x_xs   = k_xs_x.T                 # n x m\n",
        "        k_xs_xs  = self.k(x_star, x_star)  # m x m\n",
        "        k_x_x    = self.k(X, X)            # n x n\n",
        "        cov_x_x  = k_x_x + sigma**2 * torch.eye(X.shape[0])  # n x n\n",
        "\n",
        "        # Compute posterior mean and covariance\n",
        "        posterior_mean = torch.matmul(k_xs_x, torch.linalg.solve(cov_x_x, y))\n",
        "        posterior_var = k_xs_xs - torch.matmul(k_xs_x, torch.linalg.solve(cov_x_x, k_x_xs))\n",
        "\n",
        "        # The below is taken directly from the Week 3 notebook\n",
        "        # -----------------------------------------------------------------------------------\n",
        "        # Enforce symmetry and positive definiteness that may be lost due to numerical errors\n",
        "        posterior_var = (posterior_var + posterior_var.T) / 2  # Enforce symmetry\n",
        "        # Add a small amount of noise to the diagonal to make the covariance matrix positive definite\n",
        "        posterior_var = posterior_var + 1e-6 * torch.eye(posterior_var.shape[0])\n",
        "        # -----------------------------------------------------------------------------------\n",
        "\n",
        "        self.posterior_mean = posterior_mean\n",
        "\n",
        "        # Draw samples from the posterior distribution\n",
        "        y_star = torch.distributions.MultivariateNormal(posterior_mean, posterior_var).sample((size,))\n",
        "\n",
        "        ind = np.diag_indices(posterior_var.shape[0])\n",
        "        posterior_var[ind[0], ind[1]] = torch.zeros(posterior_var.shape[0])\n",
        "        self.posterior_var = posterior_var\n",
        "\n",
        "\n",
        "        return y_star\n",
        "\n"
      ]
    },
    {
      "cell_type": "markdown",
      "metadata": {},
      "source": [
        "We now perform an exploratory analysis through grid search to identify the optimal configuration for the GP, aiming to maximize prediction accuracy on a given dataset.\n",
        "\n",
        "The exploration is conducted over predefined ranges for each hyperparameter:\n",
        "- `Lrange` represents the range of depths from 1 to 10.\n",
        "- `sigma_b_range` and `sigma_w_range` include several values from very low (0.01) to relatively high (5), covering a broad spectrum of variance settings for biases and weights, respectively.\n",
        "\n",
        "We iterate through every possible combination of `L`, `sigma_b_sq`, and `sigma_w_sq`, creating a new `ReLUKernel` with the current set of parameters for each iteration. This kernel is then used to initialize a GP model, which is applied to predict outcomes for a test set (`X_star`) based on training data (`X`, `y`).\n",
        "\n",
        "Predictions are made, and their accuracy is computed by comparing the predicted labels (`y_pred`) against the true labels (`y_star`). The comparison is binary, with predictions thresholded at 0 to produce binary outcomes of 0.5 or -0.5, which are then compared to the actual binary labels to calculate accuracy.\n",
        "\n",
        "Due to the nature of GP models and the numerical stability issues that can arise (most commonly, the covariance matrix not being positive semi-definite), we employ a try-except block to handle potential errors during prediction. If an error occurs, the accuracy for that parameter set is recorded as 0.\n",
        "\n",
        "The script tracks the highest accuracy observed (`best_acc`) and the parameters that achieved this accuracy (`best_params`)."
      ]
    },
    {
      "cell_type": "code",
      "execution_count": 19,
      "metadata": {
        "colab": {
          "base_uri": "https://localhost:8080/"
        },
        "id": "ifTH4BBKBlB5",
        "outputId": "28c7615e-22bb-4fe2-c5e8-34138d49b774"
      },
      "outputs": [
        {
          "name": "stdout",
          "output_type": "stream",
          "text": [
            "0\n"
          ]
        },
        {
          "name": "stdout",
          "output_type": "stream",
          "text": [
            "1\n",
            "2\n",
            "3\n",
            "4\n",
            "5\n",
            "6\n",
            "7\n",
            "8\n",
            "9\n",
            "Stored 'all_acc' (ndarray)\n"
          ]
        }
      ],
      "source": [
        "Lrange = list(range(1, 11))\n",
        "sigma_b_range = [0.01, 0.1, 0.2, 0.5, 1, 2, 5]\n",
        "sigma_w_range = [0.01, 0.1, 0.2, 0.5, 1, 2, 5]\n",
        "\n",
        "all_acc = np.zeros((len(Lrange), len(sigma_b_range), len(sigma_w_range)))\n",
        "\n",
        "best_acc = 0\n",
        "\n",
        "for i, L in enumerate(Lrange):\n",
        "  print(i)\n",
        "  for j, b in enumerate(sigma_b_range):\n",
        "    for k, w in enumerate(sigma_w_range):\n",
        "      params = {'L': L, 'sigma_b_sq': b, 'sigma_w_sq': w}\n",
        "      relu = ReLUKernel(params)\n",
        "      gp = GP(relu)\n",
        "      try:\n",
        "        y_pred = gp.predict(X_star, X, y, size=1, sigma=0.1)\n",
        "        y_pred = torch.where(y_pred > 0, 0.5, -0.5)[0]\n",
        "        accuracy = torch.sum(y_pred == y_star) / len(y_pred)\n",
        "      except: # Sometimes get error that covariance is not pos semidefinite\n",
        "        accuracy = 0\n",
        "      all_acc[i, j, k] = accuracy\n",
        "      if accuracy > best_acc:\n",
        "        best_params = (L, b, w)\n",
        "        best_acc = accuracy\n",
        "%store all_acc"
      ]
    },
    {
      "cell_type": "markdown",
      "metadata": {},
      "source": [
        "Below we print the `best_params`"
      ]
    },
    {
      "cell_type": "code",
      "execution_count": 20,
      "metadata": {
        "colab": {
          "base_uri": "https://localhost:8080/"
        },
        "id": "vAKDC2eTSORD",
        "outputId": "4562a6f0-8be6-4d01-b770-8c098f5b9ca1"
      },
      "outputs": [
        {
          "data": {
            "text/plain": [
              "(7, 0.01, 2)"
            ]
          },
          "execution_count": 20,
          "metadata": {},
          "output_type": "execute_result"
        }
      ],
      "source": [
        "best_params"
      ]
    },
    {
      "cell_type": "code",
      "execution_count": 21,
      "metadata": {
        "colab": {
          "base_uri": "https://localhost:8080/",
          "height": 430
        },
        "id": "MS_6M6kqK6MK",
        "outputId": "444c94ee-9d50-477a-85ef-70ace745ccdf"
      },
      "outputs": [
        {
          "data": {
            "image/png": "[encoded data removed]",
            "text/plain": [
              "<Figure size 432x288 with 1 Axes>"
            ]
          },
          "metadata": {
            "needs_background": "light"
          },
          "output_type": "display_data"
        }
      ],
      "source": [
        "plt.figure()\n",
        "plt.plot(Lrange, all_acc.max(axis=1).max(axis=1), label=\"Maximum accuracy for each $L$\")\n",
        "plt.plot(Lrange, all_acc.mean(axis=1).mean(axis=1), label='Average accuracy for each $L$')\n",
        "plt.plot(Lrange, all_acc.min(axis=1).min(axis=1), label=\"Minimum accuracy for each $L$\")\n",
        "plt.legend()\n",
        "plt.show()"
      ]
    },
    {
      "cell_type": "markdown",
      "metadata": {},
      "source": [
        "The above graph depicts the relationship between the depth of the neural network-like structure (denoted as \\( L \\)) and the accuracy of a Gaussian Process (GP) model with a ReLU kernel. Three lines represent the maximum, average, and minimum accuracy achieved for each depth level ranging from 1 to 10.\n",
        "\n",
        "- **Maximum Accuracy (Blue Line)**: This line remains relatively constant across different depths, indicating that the best-case performance of the model does not significantly improve or degrade as the depth increases. The model's best performance is achieved at low depth and is maintained as  $L$ increases.\n",
        "\n",
        "- **Average Accuracy (Orange Line)**: The average accuracy appears to decrease as the depth increases. Initially, the decrease is gradual, but after $ L = 4 $, the rate of decrease becomes more pronounced. This suggests that on average, increasing the depth of the network structure beyond a certain point may lead to a reduction in performance, possibly due to overfitting or increased model complexity.\n",
        "\n",
        "- **Minimum Accuracy (Green Line)**: The minimum accuracy shows a sharp drop after $ L = 2 $, reaching the lowest point at $ L = 3 $ and remaining constant thereafter. This indicates that there are some configurations of the GP model (i.e combinations of $ \\sigma_b $ and $ \\sigma_w $) that result in poor performance, particularly at greater depths. This might reflect instances where the model is highly sensitive to the choice of hyperparameters or where certain configurations are not suitable for deeper structures. Specifically, when the accuracy is 0, it means that the GP has failed due to numerical issues. This seems toonly occur for $L\\geq 6$\n",
        "\n",
        "While the optimal performance of the GP model does not vary with depth, the average and worst-case performances tend to decrease. This could imply that the benefits of increasing depth in this context are limited and that there is a potential for decreased robustness or increased variability in model performance at higher depths. It also highlights the importance of careful hyperparameter selection, especially as the depth of the model increases."
      ]
    },
    {
      "cell_type": "code",
      "execution_count": 22,
      "metadata": {
        "colab": {
          "base_uri": "https://localhost:8080/",
          "height": 434
        },
        "id": "ADbCSiUk4hN8",
        "outputId": "f6930460-024d-4040-adfe-ef24b267b308"
      },
      "outputs": [
        {
          "data": {
            "image/png": "[encoded data removed]",
            "text/plain": [
              "<Figure size 432x288 with 1 Axes>"
            ]
          },
          "metadata": {
            "needs_background": "light"
          },
          "output_type": "display_data"
        }
      ],
      "source": [
        "plt.figure()\n",
        "plt.plot(sigma_b_range, all_acc.max(axis=0).max(axis=0), label=\"Maximum accuracy for each $\\sigma^2_w$\")\n",
        "plt.plot(sigma_b_range, all_acc.mean(axis=0).mean(axis=0), label='Average accuracy for each $\\sigma^2_w$')\n",
        "plt.plot(sigma_b_range, all_acc.min(axis=0).min(axis=0), label=\"Minimum accuracy for each $\\sigma^2_w$\")\n",
        "plt.xscale('log')\n",
        "plt.legend()\n",
        "plt.show()"
      ]
    },
    {
      "cell_type": "markdown",
      "metadata": {},
      "source": [
        "The above graph represents the relationship between the variance of the weights $ \\sigma_w^2$ , on a logarithmic scale, and the accuracy of the GP. Again we plot three lines, each representing the maximum, average, and minimum accuracy achieved for varying levels of $ \\sigma_w^2 $.\n",
        "\n",
        "- **Maximum Accuracy (Blue Line)**: This line trends upward initially as $\\sigma_w^2 $ increases, reaching a plateau before slightly declining. This suggests that up to a certain point, increasing the weight variance improves the model's performance, possibly by allowing greater flexibility. However, beyond a certain level of $ \\sigma_w^2 $, the accuracy either saturates or begins to diminish, possibly due to overfitting or instability in the model predictions due to the excess posterior covariance. We would expect higher $\\sigma_w$ in the prior to yield higher variance in the posterior predictions due to the nature of the kernel.\n",
        "\n",
        "- **Average Accuracy (Orange Line)**: The average accuracy shows a steady increase with the increase in $ \\sigma_w^2 $ up to a certain peak, after which it declines. The peak indicates an optimal range of $ \\sigma_w^2 $ values that, on average, yield the best model performance. Beyond this optimal point, too much variance might be detrimental, reflecting a trade-off between model flexibility and overfitting.\n",
        "\n",
        "- **Minimum Accuracy (Green Line)**: The minimum accuracy sharply increases with the initial increase in $ \\sigma_w^2 $, which implies that higher weight variance is necessary to avoid the worst-case scenarios of model performance. However, similar to the average accuracy, it peaks and then shows a significant drop, suggesting that extremely high variance in the weights can lead to poor model performance in some cases.\n",
        "\n",
        "In addition, it seems that the model only fails due to non-positive semidefiniteness of the covariance matrix when $\\sigma_2^2=0.01$. This may be due to near-deterministic outputs. If we were to rerun, perhaps we would exclude this case."
      ]
    },
    {
      "cell_type": "code",
      "execution_count": 23,
      "metadata": {
        "colab": {
          "base_uri": "https://localhost:8080/",
          "height": 434
        },
        "id": "FUtguhWf5fmx",
        "outputId": "b6e5e501-4cc5-4d35-8263-762edaa8ec86"
      },
      "outputs": [
        {
          "data": {
            "image/png": "[encoded data removed]",
            "text/plain": [
              "<Figure size 432x288 with 1 Axes>"
            ]
          },
          "metadata": {
            "needs_background": "light"
          },
          "output_type": "display_data"
        }
      ],
      "source": [
        "plt.figure()\n",
        "plt.plot(sigma_b_range, all_acc.max(axis=2).max(axis=0), label=\"Maximum accuracy for each $\\sigma^2_b$\")\n",
        "plt.plot(sigma_b_range, all_acc.mean(axis=2).mean(axis=0), label='Average accuracy for each $\\sigma^2_b$')\n",
        "plt.plot(sigma_b_range, all_acc.min(axis=2).min(axis=0), label=\"Minimum accuracy for each $\\sigma^2_b$\")\n",
        "plt.xscale('log')\n",
        "plt.legend()\n",
        "plt.show()"
      ]
    },
    {
      "cell_type": "markdown",
      "metadata": {},
      "source": [
        "There is not much to be said about the relationship from this graph. It sees that the variance of the biases does not have much impact on the accuracy.\n",
        "\n",
        "However, what we can discern is that the success of the NNGP is fairly sensitive to parameter choices. Careful selection of the Gaussian prior is required to ensure sensible, accurate and robust predictions, as is shown by the various scenarios in which the minimum accuracy can be fairly low."
      ]
    },
    {
      "cell_type": "code",
      "execution_count": 24,
      "metadata": {
        "colab": {
          "base_uri": "https://localhost:8080/",
          "height": 198
        },
        "id": "uCmS1F-s54EB",
        "outputId": "c9ee01b6-83a5-4063-a186-bad2a781d9fd"
      },
      "outputs": [
        {
          "name": "stdout",
          "output_type": "stream",
          "text": [
            "Best params for L=1: (sig b, sig w) = (0.2, 1)\n",
            "Best params for L=2: (sig b, sig w) = (0.01, 1)\n",
            "Best params for L=3: (sig b, sig w) = (0.2, 1)\n",
            "Best params for L=4: (sig b, sig w) = (1, 2)\n",
            "Best params for L=5: (sig b, sig w) = (2, 2)\n",
            "Best params for L=6: (sig b, sig w) = (0.5, 2)\n",
            "Best params for L=7: (sig b, sig w) = (0.01, 2)\n",
            "Best params for L=8: (sig b, sig w) = (0.01, 2)\n",
            "Best params for L=9: (sig b, sig w) = (0.1, 2)\n",
            "Best params for L=10: (sig b, sig w) = (0.01, 2)\n"
          ]
        }
      ],
      "source": [
        "for l in range(10):\n",
        "  argmax = np.argmax(all_acc[l])\n",
        "  b, w = argmax // 7, argmax % 7\n",
        "  print (f\"Best params for L={l+1}: (sig b, sig w) = {sigma_b_range[b], sigma_w_range[w]}\")"
      ]
    },
    {
      "cell_type": "markdown",
      "metadata": {},
      "source": [
        "Above we can see that smaller values of $L$ work better with $\\sigma_w^2=1$, and larger values prefer $\\sigma_w^2=2$. This is some indication that higher weight variance works better with more layers. On the whole, it seems that increasing the weight variance yields more accurate predictions. This allows the model to adapt to more variance in the images. However, this will likely increase the posterior variance, and thus uncertainty of the predictions. Tuning $\\sigma_w^2$ can be likened to the bias-variance tradeoff in tuning a regular neural network."
      ]
    },
    {
      "cell_type": "code",
      "execution_count": 25,
      "metadata": {
        "colab": {
          "base_uri": "https://localhost:8080/"
        },
        "id": "_aR7J8EiLJHS",
        "outputId": "fee51bf4-de3e-4c83-9185-83deeaf53777"
      },
      "outputs": [
        {
          "data": {
            "text/plain": [
              "tensor(841)"
            ]
          },
          "execution_count": 25,
          "metadata": {},
          "output_type": "execute_result"
        }
      ],
      "source": [
        "params = {'L': best_params[0], 'sigma_b_sq': best_params[1], 'sigma_w_sq': best_params[2]}\n",
        "relu = ReLUKernel(params)\n",
        "gp = GP(relu)\n",
        "\n",
        "y_pred = gp.predict(X_star, X, y, size=1, sigma=0.1)\n",
        "y_pred = torch.where(y_pred > 0, 0.5, -0.5)[0]\n",
        "torch.sum(y_pred == y_star)\n"
      ]
    },
    {
      "cell_type": "markdown",
      "metadata": {},
      "source": [
        "We see that the highest accuracy obtained in the two-class classification problem is c.84%. This is quite effective for a method that takes c. 4 seconds to train (once hyperparameters have been selected).\n",
        "\n",
        "Below we plot the two images with the lowest/most negative covariance (the most 'different' images according to the model) and the two images with the highest covariance (the most 'similar')"
      ]
    },
    {
      "cell_type": "code",
      "execution_count": 30,
      "metadata": {
        "colab": {
          "base_uri": "https://localhost:8080/",
          "height": 262
        },
        "id": "3WZjvuwiMmbL",
        "outputId": "5cf19c69-9f0d-4f3d-ae89-ec421e5b2c75"
      },
      "outputs": [
        {
          "name": "stderr",
          "output_type": "stream",
          "text": [
            "/var/folders/17/2brgtwwj25d0g2886hjmjkyc0000gn/T/ipykernel_26790/974095401.py:15: UserWarning: Matplotlib is currently using module://matplotlib_inline.backend_inline, which is a non-GUI backend, so cannot show the figure.\n",
            "  fig.show()\n"
          ]
        },
        {
          "data": {
            "image/png": "[encoded data removed]",
            "text/plain": [
              "<Figure size 432x288 with 2 Axes>"
            ]
          },
          "metadata": {
            "needs_background": "light"
          },
          "output_type": "display_data"
        }
      ],
      "source": [
        "ind1 = gp.posterior_var.argmin() // 1000\n",
        "ind2 = gp.posterior_var.argmin() % 1000\n",
        "image1 = X_star[ind1].reshape(3, 32, 32)\n",
        "image1 = image1.permute(1, 2, 0)\n",
        "image2 = X_star[ind2].reshape(3, 32, 32)\n",
        "image2 = image2.permute(1, 2, 0)\n",
        "\n",
        "fig, ax = plt.subplots(1, 2)\n",
        "ax[0].imshow(image1)\n",
        "ax[0].set_title(f\"Actual: {y_star[ind1]}, predicted: {y_pred[ind1]}\")\n",
        "ax[0].axis('off')\n",
        "ax[1].imshow(image2)\n",
        "ax[1].set_title(f\"Actual: {y_star[ind2]}, predicted: {y_pred[ind2]}\")\n",
        "ax[1].axis('off')\n",
        "fig.show()"
      ]
    },
    {
      "cell_type": "markdown",
      "metadata": {},
      "source": [
        "Above are the most 'different' images. Very interestingly, they are both trucks. We would expect perhaps that the model would give a cat and a truck. In all fairness, they do look very different.\n",
        "\n",
        "However, as expected, the model predicts the second image as a cat. This image can be thought of as one which exhibits large negative covariance with other trucks under the posterior of the model."
      ]
    },
    {
      "cell_type": "code",
      "execution_count": 29,
      "metadata": {
        "colab": {
          "base_uri": "https://localhost:8080/",
          "height": 262
        },
        "id": "nE2BMfZEO_fy",
        "outputId": "70926981-99ee-4a74-b7a5-60eea8831778"
      },
      "outputs": [
        {
          "name": "stderr",
          "output_type": "stream",
          "text": [
            "/var/folders/17/2brgtwwj25d0g2886hjmjkyc0000gn/T/ipykernel_26790/3273363855.py:15: UserWarning: Matplotlib is currently using module://matplotlib_inline.backend_inline, which is a non-GUI backend, so cannot show the figure.\n",
            "  fig.show()\n"
          ]
        },
        {
          "data": {
            "image/png": "[encoded data removed]",
            "text/plain": [
              "<Figure size 432x288 with 2 Axes>"
            ]
          },
          "metadata": {
            "needs_background": "light"
          },
          "output_type": "display_data"
        }
      ],
      "source": [
        "ind1 = gp.posterior_var.argmax() // 1000\n",
        "ind2 = gp.posterior_var.argmax() % 1000\n",
        "image1 = X_star[ind1].reshape(3, 32, 32)\n",
        "image1 = image1.permute(1, 2, 0)\n",
        "image2 = X_star[ind2].reshape(3, 32, 32)\n",
        "image2 = image2.permute(1, 2, 0)\n",
        "\n",
        "fig, ax = plt.subplots(1, 2)\n",
        "ax[0].imshow(image1)\n",
        "ax[0].set_title(f\"Actual: {y_star[ind1]}, predicted: {y_pred[ind1]}\")\n",
        "ax[0].axis('off')\n",
        "ax[1].imshow(image2)\n",
        "ax[1].set_title(f\"Actual: {y_star[ind2]}, predicted: {y_pred[ind2]}\")\n",
        "ax[1].axis('off')\n",
        "fig.show()"
      ]
    },
    {
      "cell_type": "markdown",
      "metadata": {},
      "source": [
        "As expected, both images are of the same class, predicted and actual. Moreover, they exhibit very similar features: small, white, blob-like cat on a dark background."
      ]
    },
    {
      "cell_type": "markdown",
      "metadata": {
        "id": "GC_EhzB_aujL"
      },
      "source": [
        "#### Computational cost\n",
        "\n",
        "The computational cost of this algorithm lies in the matrix inverses required to compute the kernel. These will grow cubically with the dimensions of the input matrix."
      ]
    },
    {
      "cell_type": "markdown",
      "metadata": {},
      "source": []
    }
  ],
  "metadata": {
    "colab": {
      "provenance": []
    },
    "kernelspec": {
      "display_name": "Python 3",
      "name": "python3"
    },
    "language_info": {
      "codemirror_mode": {
        "name": "ipython",
        "version": 3
      },
      "file_extension": ".py",
      "mimetype": "text/x-python",
      "name": "python",
      "nbconvert_exporter": "python",
      "pygments_lexer": "ipython3",
      "version": "3.10.1"
    }
  },
  "nbformat": 4,
  "nbformat_minor": 0
}
